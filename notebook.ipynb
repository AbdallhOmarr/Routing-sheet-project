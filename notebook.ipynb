{
 "cells": [
  {
   "cell_type": "code",
   "execution_count": 121,
   "metadata": {},
   "outputs": [],
   "source": [
    "import pandas as pd"
   ]
  },
  {
   "cell_type": "code",
   "execution_count": 122,
   "metadata": {},
   "outputs": [],
   "source": [
    "op = pd.read_excel(r\"Route.xlsm\",sheet_name=\"operations\")"
   ]
  },
  {
   "cell_type": "code",
   "execution_count": 123,
   "metadata": {},
   "outputs": [],
   "source": [
    "mc = pd.read_excel(r\"Route.xlsm\",sheet_name=\"machines\")"
   ]
  },
  {
   "cell_type": "code",
   "execution_count": 124,
   "metadata": {},
   "outputs": [],
   "source": [
    "lb = pd.read_excel(r\"Route.xlsm\",sheet_name=\"labors\")"
   ]
  },
  {
   "cell_type": "code",
   "execution_count": 125,
   "metadata": {},
   "outputs": [
    {
     "data": {
      "text/html": [
       "<div>\n",
       "<style scoped>\n",
       "    .dataframe tbody tr th:only-of-type {\n",
       "        vertical-align: middle;\n",
       "    }\n",
       "\n",
       "    .dataframe tbody tr th {\n",
       "        vertical-align: top;\n",
       "    }\n",
       "\n",
       "    .dataframe thead th {\n",
       "        text-align: right;\n",
       "    }\n",
       "</style>\n",
       "<table border=\"1\" class=\"dataframe\">\n",
       "  <thead>\n",
       "    <tr style=\"text-align: right;\">\n",
       "      <th></th>\n",
       "      <th>id</th>\n",
       "      <th>code</th>\n",
       "      <th>description</th>\n",
       "      <th>operation id</th>\n",
       "    </tr>\n",
       "  </thead>\n",
       "  <tbody>\n",
       "    <tr>\n",
       "      <th>66</th>\n",
       "      <td>67</td>\n",
       "      <td>LB-GENTC00</td>\n",
       "      <td>عامل معين</td>\n",
       "      <td>87</td>\n",
       "    </tr>\n",
       "  </tbody>\n",
       "</table>\n",
       "</div>"
      ],
      "text/plain": [
       "    id        code description  operation id\n",
       "66  67  LB-GENTC00   عامل معين            87"
      ]
     },
     "execution_count": 125,
     "metadata": {},
     "output_type": "execute_result"
    }
   ],
   "source": [
    "lb[lb[\"operation id\"]==87]"
   ]
  },
  {
   "cell_type": "code",
   "execution_count": 126,
   "metadata": {},
   "outputs": [
    {
     "data": {
      "text/html": [
       "<div>\n",
       "<style scoped>\n",
       "    .dataframe tbody tr th:only-of-type {\n",
       "        vertical-align: middle;\n",
       "    }\n",
       "\n",
       "    .dataframe tbody tr th {\n",
       "        vertical-align: top;\n",
       "    }\n",
       "\n",
       "    .dataframe thead th {\n",
       "        text-align: right;\n",
       "    }\n",
       "</style>\n",
       "<table border=\"1\" class=\"dataframe\">\n",
       "  <thead>\n",
       "    <tr style=\"text-align: right;\">\n",
       "      <th></th>\n",
       "      <th>id</th>\n",
       "      <th>code</th>\n",
       "      <th>description</th>\n",
       "      <th>department</th>\n",
       "      <th>department id</th>\n",
       "    </tr>\n",
       "  </thead>\n",
       "  <tbody>\n",
       "    <tr>\n",
       "      <th>37</th>\n",
       "      <td>2</td>\n",
       "      <td>ASM1</td>\n",
       "      <td>تجميع يدوي</td>\n",
       "      <td>DP-WLD001</td>\n",
       "      <td>6</td>\n",
       "    </tr>\n",
       "  </tbody>\n",
       "</table>\n",
       "</div>"
      ],
      "text/plain": [
       "    id  code description department  department id\n",
       "37   2  ASM1  تجميع يدوي  DP-WLD001              6"
      ]
     },
     "execution_count": 126,
     "metadata": {},
     "output_type": "execute_result"
    }
   ],
   "source": [
    "op[op[\"id\"]==2]\n"
   ]
  },
  {
   "cell_type": "code",
   "execution_count": 127,
   "metadata": {},
   "outputs": [
    {
     "data": {
      "text/html": [
       "<div>\n",
       "<style scoped>\n",
       "    .dataframe tbody tr th:only-of-type {\n",
       "        vertical-align: middle;\n",
       "    }\n",
       "\n",
       "    .dataframe tbody tr th {\n",
       "        vertical-align: top;\n",
       "    }\n",
       "\n",
       "    .dataframe thead th {\n",
       "        text-align: right;\n",
       "    }\n",
       "</style>\n",
       "<table border=\"1\" class=\"dataframe\">\n",
       "  <thead>\n",
       "    <tr style=\"text-align: right;\">\n",
       "      <th></th>\n",
       "      <th>id</th>\n",
       "      <th>code</th>\n",
       "      <th>description</th>\n",
       "      <th>operation id</th>\n",
       "    </tr>\n",
       "  </thead>\n",
       "  <tbody>\n",
       "    <tr>\n",
       "      <th>0</th>\n",
       "      <td>1</td>\n",
       "      <td>MC-ASPI000</td>\n",
       "      <td>Italian Prop.تجميع داخلي</td>\n",
       "      <td>2</td>\n",
       "    </tr>\n",
       "  </tbody>\n",
       "</table>\n",
       "</div>"
      ],
      "text/plain": [
       "   id        code               description  operation id\n",
       "0   1  MC-ASPI000  Italian Prop.تجميع داخلي             2"
      ]
     },
     "execution_count": 127,
     "metadata": {},
     "output_type": "execute_result"
    }
   ],
   "source": [
    "mc[mc[\"operation id\"]==2]"
   ]
  },
  {
   "cell_type": "code",
   "execution_count": 128,
   "metadata": {},
   "outputs": [],
   "source": [
    "df = pd.merge(mc,lb,on=\"operation id\",how=\"outer\")"
   ]
  },
  {
   "cell_type": "code",
   "execution_count": 129,
   "metadata": {},
   "outputs": [],
   "source": [
    "df_merged = pd.merge(df,op,left_on = \"operation id\", right_on = \"id\")"
   ]
  },
  {
   "cell_type": "code",
   "execution_count": 130,
   "metadata": {},
   "outputs": [
    {
     "data": {
      "text/html": [
       "<div>\n",
       "<style scoped>\n",
       "    .dataframe tbody tr th:only-of-type {\n",
       "        vertical-align: middle;\n",
       "    }\n",
       "\n",
       "    .dataframe tbody tr th {\n",
       "        vertical-align: top;\n",
       "    }\n",
       "\n",
       "    .dataframe thead th {\n",
       "        text-align: right;\n",
       "    }\n",
       "</style>\n",
       "<table border=\"1\" class=\"dataframe\">\n",
       "  <thead>\n",
       "    <tr style=\"text-align: right;\">\n",
       "      <th></th>\n",
       "      <th>id_x</th>\n",
       "      <th>code_x</th>\n",
       "      <th>description_x</th>\n",
       "      <th>operation id</th>\n",
       "      <th>id_y</th>\n",
       "      <th>code_y</th>\n",
       "      <th>description_y</th>\n",
       "      <th>id</th>\n",
       "      <th>code</th>\n",
       "      <th>description</th>\n",
       "      <th>department</th>\n",
       "      <th>department id</th>\n",
       "    </tr>\n",
       "  </thead>\n",
       "  <tbody>\n",
       "    <tr>\n",
       "      <th>189</th>\n",
       "      <td>NaN</td>\n",
       "      <td>NaN</td>\n",
       "      <td>NaN</td>\n",
       "      <td>87</td>\n",
       "      <td>67</td>\n",
       "      <td>LB-GENTC00</td>\n",
       "      <td>عامل معين</td>\n",
       "      <td>87</td>\n",
       "      <td>PACK</td>\n",
       "      <td>تغليف</td>\n",
       "      <td>DP-PACKING</td>\n",
       "      <td>28</td>\n",
       "    </tr>\n",
       "  </tbody>\n",
       "</table>\n",
       "</div>"
      ],
      "text/plain": [
       "     id_x code_x description_x  operation id  id_y      code_y description_y  \\\n",
       "189   NaN    NaN           NaN            87    67  LB-GENTC00     عامل معين   \n",
       "\n",
       "     id  code description  department  department id  \n",
       "189  87  PACK       تغليف  DP-PACKING             28  "
      ]
     },
     "execution_count": 130,
     "metadata": {},
     "output_type": "execute_result"
    }
   ],
   "source": [
    "df_merged[df_merged[\"operation id\"]==87]"
   ]
  },
  {
   "cell_type": "code",
   "execution_count": 131,
   "metadata": {},
   "outputs": [],
   "source": [
    "df_merged.to_excel(\"opmc.xlsx\")"
   ]
  },
  {
   "cell_type": "code",
   "execution_count": 132,
   "metadata": {},
   "outputs": [],
   "source": [
    "df1 = df_merged[:10]"
   ]
  },
  {
   "cell_type": "code",
   "execution_count": 133,
   "metadata": {},
   "outputs": [],
   "source": [
    "df2 = df_merged[10:20]"
   ]
  },
  {
   "cell_type": "code",
   "execution_count": 134,
   "metadata": {},
   "outputs": [
    {
     "data": {
      "text/plain": [
       "(10, 12)"
      ]
     },
     "execution_count": 134,
     "metadata": {},
     "output_type": "execute_result"
    }
   ],
   "source": [
    "df1.shape"
   ]
  },
  {
   "cell_type": "code",
   "execution_count": 135,
   "metadata": {},
   "outputs": [
    {
     "data": {
      "text/plain": [
       "(10, 12)"
      ]
     },
     "execution_count": 135,
     "metadata": {},
     "output_type": "execute_result"
    }
   ],
   "source": [
    "df2.shape\n"
   ]
  },
  {
   "cell_type": "code",
   "execution_count": 136,
   "metadata": {},
   "outputs": [],
   "source": [
    "dff = df1.append(df2)"
   ]
  },
  {
   "cell_type": "code",
   "execution_count": 137,
   "metadata": {},
   "outputs": [
    {
     "data": {
      "text/plain": [
       "(20, 12)"
      ]
     },
     "execution_count": 137,
     "metadata": {},
     "output_type": "execute_result"
    }
   ],
   "source": [
    "dff.shape"
   ]
  },
  {
   "cell_type": "code",
   "execution_count": 138,
   "metadata": {},
   "outputs": [],
   "source": [
    "import pandas as pd "
   ]
  },
  {
   "cell_type": "code",
   "execution_count": 139,
   "metadata": {},
   "outputs": [
    {
     "name": "stderr",
     "output_type": "stream",
     "text": [
      "c:\\Users\\abdallah.ashry\\Anaconda3\\lib\\site-packages\\openpyxl\\worksheet\\_reader.py:312: UserWarning: Data Validation extension is not supported and will be removed\n",
      "  warn(msg)\n"
     ]
    }
   ],
   "source": [
    "df1 = pd.read_excel(\"Route.xlsm\",sheet_name=\"Item1\",header=2)"
   ]
  },
  {
   "cell_type": "code",
   "execution_count": 166,
   "metadata": {},
   "outputs": [
    {
     "name": "stdout",
     "output_type": "stream",
     "text": [
      "<class 'pandas.core.frame.DataFrame'>\n",
      "Int64Index: 113 entries, 0 to 113\n",
      "Data columns (total 5 columns):\n",
      " #   Column     Non-Null Count  Dtype \n",
      "---  ------     --------------  ----- \n",
      " 0   desc       113 non-null    object\n",
      " 1   rate       113 non-null    int64 \n",
      " 2   length     113 non-null    object\n",
      " 3   width      113 non-null    object\n",
      " 4   thickness  113 non-null    object\n",
      "dtypes: int64(1), object(4)\n",
      "memory usage: 5.3+ KB\n"
     ]
    }
   ],
   "source": [
    "df.info()"
   ]
  },
  {
   "cell_type": "code",
   "execution_count": 141,
   "metadata": {},
   "outputs": [
    {
     "name": "stderr",
     "output_type": "stream",
     "text": [
      "c:\\Users\\abdallah.ashry\\Anaconda3\\lib\\site-packages\\openpyxl\\worksheet\\_reader.py:312: UserWarning: Data Validation extension is not supported and will be removed\n",
      "  warn(msg)\n"
     ]
    }
   ],
   "source": [
    "df2 = pd.read_excel(\"Route.xlsm\",sheet_name=\"std routing\")"
   ]
  },
  {
   "cell_type": "code",
   "execution_count": 142,
   "metadata": {},
   "outputs": [
    {
     "data": {
      "text/html": [
       "<div>\n",
       "<style scoped>\n",
       "    .dataframe tbody tr th:only-of-type {\n",
       "        vertical-align: middle;\n",
       "    }\n",
       "\n",
       "    .dataframe tbody tr th {\n",
       "        vertical-align: top;\n",
       "    }\n",
       "\n",
       "    .dataframe thead th {\n",
       "        text-align: right;\n",
       "    }\n",
       "</style>\n",
       "<table border=\"1\" class=\"dataframe\">\n",
       "  <thead>\n",
       "    <tr style=\"text-align: right;\">\n",
       "      <th></th>\n",
       "      <th>std route</th>\n",
       "      <th>Column2</th>\n",
       "      <th>dept1</th>\n",
       "      <th>process1</th>\n",
       "      <th>machine1</th>\n",
       "      <th>no1</th>\n",
       "      <th>Column1</th>\n",
       "      <th>dept2</th>\n",
       "      <th>process2</th>\n",
       "      <th>machine2</th>\n",
       "      <th>...</th>\n",
       "      <th>machine82</th>\n",
       "      <th>dept9</th>\n",
       "      <th>process9</th>\n",
       "      <th>machine9</th>\n",
       "      <th>no9</th>\n",
       "      <th>machine92</th>\n",
       "      <th>dept10</th>\n",
       "      <th>process10</th>\n",
       "      <th>machine10</th>\n",
       "      <th>no10</th>\n",
       "    </tr>\n",
       "  </thead>\n",
       "  <tbody>\n",
       "    <tr>\n",
       "      <th>0</th>\n",
       "      <td>1</td>\n",
       "      <td>NaN</td>\n",
       "      <td>إنشاءات</td>\n",
       "      <td>لحام بنطة</td>\n",
       "      <td>ماكينة لحام</td>\n",
       "      <td>NaN</td>\n",
       "      <td>NaN</td>\n",
       "      <td>إنشاءات</td>\n",
       "      <td>لحام يدوي</td>\n",
       "      <td>ماكينة لحام</td>\n",
       "      <td>...</td>\n",
       "      <td>NaN</td>\n",
       "      <td>NaN</td>\n",
       "      <td>NaN</td>\n",
       "      <td>NaN</td>\n",
       "      <td>NaN</td>\n",
       "      <td>NaN</td>\n",
       "      <td>NaN</td>\n",
       "      <td>NaN</td>\n",
       "      <td>NaN</td>\n",
       "      <td>NaN</td>\n",
       "    </tr>\n",
       "  </tbody>\n",
       "</table>\n",
       "<p>1 rows × 51 columns</p>\n",
       "</div>"
      ],
      "text/plain": [
       "   std route  Column2    dept1   process1      machine1  no1  Column1  \\\n",
       "0          1      NaN  إنشاءات  لحام بنطة  ماكينة لحام   NaN      NaN   \n",
       "\n",
       "     dept2   process2      machine2  ...  machine82  dept9 process9 machine9  \\\n",
       "0  إنشاءات  لحام يدوي  ماكينة لحام   ...        NaN    NaN      NaN      NaN   \n",
       "\n",
       "   no9  machine92  dept10 process10 machine10 no10  \n",
       "0  NaN        NaN     NaN       NaN       NaN  NaN  \n",
       "\n",
       "[1 rows x 51 columns]"
      ]
     },
     "execution_count": 142,
     "metadata": {},
     "output_type": "execute_result"
    }
   ],
   "source": [
    "df2.head()"
   ]
  },
  {
   "cell_type": "code",
   "execution_count": 143,
   "metadata": {},
   "outputs": [],
   "source": [
    "# merge \n",
    "process = pd.merge(df1,df2, on=\"std route\",how= \"right\",suffixes=('x', ''))"
   ]
  },
  {
   "cell_type": "code",
   "execution_count": 144,
   "metadata": {},
   "outputs": [
    {
     "data": {
      "text/html": [
       "<div>\n",
       "<style scoped>\n",
       "    .dataframe tbody tr th:only-of-type {\n",
       "        vertical-align: middle;\n",
       "    }\n",
       "\n",
       "    .dataframe tbody tr th {\n",
       "        vertical-align: top;\n",
       "    }\n",
       "\n",
       "    .dataframe thead th {\n",
       "        text-align: right;\n",
       "    }\n",
       "</style>\n",
       "<table border=\"1\" class=\"dataframe\">\n",
       "  <thead>\n",
       "    <tr style=\"text-align: right;\">\n",
       "      <th></th>\n",
       "      <th>std route</th>\n",
       "      <th>dept1</th>\n",
       "      <th>process1</th>\n",
       "      <th>machine1</th>\n",
       "      <th>dept2</th>\n",
       "      <th>process2</th>\n",
       "      <th>machine2</th>\n",
       "      <th>dept3</th>\n",
       "      <th>process3</th>\n",
       "      <th>dept4</th>\n",
       "      <th>process4</th>\n",
       "      <th>machine4</th>\n",
       "      <th>dept5</th>\n",
       "      <th>process5</th>\n",
       "      <th>machine5</th>\n",
       "      <th>dept6</th>\n",
       "      <th>process6</th>\n",
       "    </tr>\n",
       "  </thead>\n",
       "  <tbody>\n",
       "    <tr>\n",
       "      <th>0</th>\n",
       "      <td>1</td>\n",
       "      <td>إنشاءات</td>\n",
       "      <td>لحام بنطة</td>\n",
       "      <td>ماكينة لحام</td>\n",
       "      <td>إنشاءات</td>\n",
       "      <td>لحام يدوي</td>\n",
       "      <td>ماكينة لحام</td>\n",
       "      <td>إنشاءات</td>\n",
       "      <td>تجليخ</td>\n",
       "      <td>الرمالة</td>\n",
       "      <td>ترميل</td>\n",
       "      <td>رمالة</td>\n",
       "      <td>دهان رش</td>\n",
       "      <td>دهان رش</td>\n",
       "      <td>خـــط رش يـــدوي</td>\n",
       "      <td>التغليف</td>\n",
       "      <td>تغليف</td>\n",
       "    </tr>\n",
       "  </tbody>\n",
       "</table>\n",
       "</div>"
      ],
      "text/plain": [
       "   std route    dept1   process1      machine1    dept2   process2  \\\n",
       "0          1  إنشاءات  لحام بنطة  ماكينة لحام   إنشاءات  لحام يدوي   \n",
       "\n",
       "       machine2    dept3 process3     dept4 process4 machine4    dept5  \\\n",
       "0  ماكينة لحام   إنشاءات    تجليخ  الرمالة     ترميل    رمالة  دهان رش   \n",
       "\n",
       "  process5          machine5     dept6 process6  \n",
       "0  دهان رش  خـــط رش يـــدوي  التغليف     تغليف  "
      ]
     },
     "execution_count": 144,
     "metadata": {},
     "output_type": "execute_result"
    }
   ],
   "source": [
    "process.dropna(axis=1)"
   ]
  },
  {
   "cell_type": "markdown",
   "metadata": {},
   "source": []
  },
  {
   "cell_type": "code",
   "execution_count": 145,
   "metadata": {},
   "outputs": [],
   "source": [
    "pth =\"mails.txt\""
   ]
  },
  {
   "cell_type": "code",
   "execution_count": 146,
   "metadata": {},
   "outputs": [
    {
     "name": "stdout",
     "output_type": "stream",
     "text": [
      "mohamed.gaafer@acrow.co\n",
      "\n",
      "Mahmoud.Shaban@Acrow.co\n",
      "\n",
      "Abdallah.Ashry@Acrow.co\n",
      "\n",
      "fatma.ahmed@Acrow.co\n",
      "\n",
      "Hossam.Ahmed@Acrow.co\n",
      "\n",
      "mostafa.dahy@Acrow.co\n",
      "\n",
      "abdelrahman.amer@Acrow.co\n",
      "\n",
      "ahmed.abdalkareem@acrow.co\n",
      "\n",
      "Ahmed.Ashraf@Acrow.co\n",
      "\n",
      "ahmed.shabana@Acrow.co\n",
      "\n",
      "ashraf.abdelsatar@Acrow.co\n",
      "\n",
      "hussien.elsakary@Acrow.co\n",
      "\n",
      "ibrahim.elsayed@Acrow.co\n",
      "\n",
      "mahmoud.abdelrasoul@Acrow.co\n",
      "\n",
      "mahmoud.naser@Acrow.co\n",
      "\n",
      "Mohamed.Elhussainy@acrow.co\n",
      "\n",
      "mostafa.dahy@Acrow.co\n",
      "\n",
      "mostafa.sabry@acrow.co\n",
      "\n",
      "ramadan.selim@Acrow.co\n",
      "\n",
      "shady.bakr@Acrow.co\n",
      "\n",
      "somaya.abdelkader@Acrow.co\n",
      "\n",
      "Yahia.Hamdy@Acrow.co\n"
     ]
    }
   ],
   "source": [
    "  mails_to = []\n",
    "  mails_cc = []\n",
    "  with open(\"mails.txt\",\"r\") as file:\n",
    "      for line in file.readlines():\n",
    "          if line.strip().lower() == \"to\":\n",
    "              to_lst = True\n",
    "          if line.strip().lower() == \"cc\":\n",
    "              to_lst = False\n",
    "\n",
    "          if line.strip().lower().endswith(\"@acrow.co\"):\n",
    "              print(line)\n",
    "              if to_lst:\n",
    "                  mails_to.append(line.strip().lower())\n",
    "              else:\n",
    "                  mails_cc.append(line.strip().lower())\n",
    "\n",
    "  mail_to_str = \"\"\n",
    "  for x in mails_to:\n",
    "      mail_to_str += x + \";\"\n",
    "  mail_cc_str = \"\"\n",
    "  for y in mails_cc:\n",
    "      mail_cc_str += y + \";\""
   ]
  },
  {
   "cell_type": "code",
   "execution_count": 147,
   "metadata": {},
   "outputs": [
    {
     "data": {
      "text/plain": [
       "['mohamed.gaafer@acrow.co', 'mahmoud.shaban@acrow.co']"
      ]
     },
     "execution_count": 147,
     "metadata": {},
     "output_type": "execute_result"
    }
   ],
   "source": [
    "mails_to"
   ]
  },
  {
   "cell_type": "code",
   "execution_count": 148,
   "metadata": {},
   "outputs": [
    {
     "data": {
      "text/plain": [
       "['abdallah.ashry@acrow.co',\n",
       " 'fatma.ahmed@acrow.co',\n",
       " 'hossam.ahmed@acrow.co',\n",
       " 'mostafa.dahy@acrow.co',\n",
       " 'abdelrahman.amer@acrow.co',\n",
       " 'ahmed.abdalkareem@acrow.co',\n",
       " 'ahmed.ashraf@acrow.co',\n",
       " 'ahmed.shabana@acrow.co',\n",
       " 'ashraf.abdelsatar@acrow.co',\n",
       " 'hussien.elsakary@acrow.co',\n",
       " 'ibrahim.elsayed@acrow.co',\n",
       " 'mahmoud.abdelrasoul@acrow.co',\n",
       " 'mahmoud.naser@acrow.co',\n",
       " 'mohamed.elhussainy@acrow.co',\n",
       " 'mostafa.dahy@acrow.co',\n",
       " 'mostafa.sabry@acrow.co',\n",
       " 'ramadan.selim@acrow.co',\n",
       " 'shady.bakr@acrow.co',\n",
       " 'somaya.abdelkader@acrow.co',\n",
       " 'yahia.hamdy@acrow.co']"
      ]
     },
     "execution_count": 148,
     "metadata": {},
     "output_type": "execute_result"
    }
   ],
   "source": [
    "mails_cc"
   ]
  },
  {
   "cell_type": "code",
   "execution_count": 149,
   "metadata": {},
   "outputs": [],
   "source": [
    "pth= r\"C:\\Users\\abdallah.ashry\\Desktop\\Book1.xlsx\""
   ]
  },
  {
   "cell_type": "code",
   "execution_count": 150,
   "metadata": {},
   "outputs": [],
   "source": [
    "import pandas as pd"
   ]
  },
  {
   "cell_type": "code",
   "execution_count": 151,
   "metadata": {},
   "outputs": [],
   "source": [
    "df = pd.read_excel(pth,sheet_name=\"main\")"
   ]
  },
  {
   "cell_type": "code",
   "execution_count": 152,
   "metadata": {},
   "outputs": [],
   "source": [
    "import re\n"
   ]
  },
  {
   "cell_type": "code",
   "execution_count": 153,
   "metadata": {},
   "outputs": [],
   "source": [
    "desc = \"PJSteel Plank Pl. 2475x357x2mm\"\n"
   ]
  },
  {
   "cell_type": "code",
   "execution_count": 154,
   "metadata": {},
   "outputs": [],
   "source": [
    "def get_dim(desc):\n",
    "    # Define regular expression pattern to match the length, width, and thickness\n",
    "    pattern = r\"(\\d+)xx(\\d+)x([\\d\\.]+)mm|\\s(\\d+)x(\\d+)x([\\d\\.]+)mm\"\n",
    "\n",
    "    # Use regular expression to extract length, width, and thickness\n",
    "    match = re.search(pattern, desc)\n",
    "\n",
    "    if match:\n",
    "        if match.group(1):\n",
    "            length = int(match.group(1))\n",
    "            width = int(match.group(2))\n",
    "            thickness = float(match.group(3))\n",
    "        else:\n",
    "            length = int(match.group(4))\n",
    "            width = int(match.group(5))\n",
    "            thickness = float(match.group(6))\n",
    "        return length, width, thickness\n",
    "    else:\n",
    "        return None, None, None\n"
   ]
  },
  {
   "cell_type": "code",
   "execution_count": 155,
   "metadata": {},
   "outputs": [
    {
     "data": {
      "text/plain": [
       "(2475, 357, 2.0)"
      ]
     },
     "execution_count": 155,
     "metadata": {},
     "output_type": "execute_result"
    }
   ],
   "source": [
    "get_dim(desc)"
   ]
  },
  {
   "cell_type": "code",
   "execution_count": 156,
   "metadata": {},
   "outputs": [],
   "source": [
    "no_match =[]\n",
    "df['dimensions'] = df['desc'].apply(lambda x: get_dim(x))\n",
    "\n",
    "# Extract 'length', 'width', and 'thickness' dimensions from 'dimensions' column\n",
    "df['length'], df['width'], df['thickness'] = zip(*df['dimensions'])\n",
    "\n",
    "# Drop 'dimensions' column\n",
    "df.drop('dimensions', axis=1, inplace=True)\n"
   ]
  },
  {
   "cell_type": "code",
   "execution_count": 157,
   "metadata": {},
   "outputs": [
    {
     "data": {
      "text/html": [
       "<div>\n",
       "<style scoped>\n",
       "    .dataframe tbody tr th:only-of-type {\n",
       "        vertical-align: middle;\n",
       "    }\n",
       "\n",
       "    .dataframe tbody tr th {\n",
       "        vertical-align: top;\n",
       "    }\n",
       "\n",
       "    .dataframe thead th {\n",
       "        text-align: right;\n",
       "    }\n",
       "</style>\n",
       "<table border=\"1\" class=\"dataframe\">\n",
       "  <thead>\n",
       "    <tr style=\"text-align: right;\">\n",
       "      <th></th>\n",
       "      <th>desc</th>\n",
       "      <th>rate</th>\n",
       "      <th>length</th>\n",
       "      <th>width</th>\n",
       "      <th>thickness</th>\n",
       "    </tr>\n",
       "  </thead>\n",
       "  <tbody>\n",
       "    <tr>\n",
       "      <th>58</th>\n",
       "      <td>Acrow Beam S12,SBeam (4488x198x2mm)</td>\n",
       "      <td>85</td>\n",
       "      <td>None</td>\n",
       "      <td>None</td>\n",
       "      <td>None</td>\n",
       "    </tr>\n",
       "  </tbody>\n",
       "</table>\n",
       "</div>"
      ],
      "text/plain": [
       "                                   desc  rate length width thickness\n",
       "58  Acrow Beam S12,SBeam (4488x198x2mm)    85   None  None      None"
      ]
     },
     "execution_count": 157,
     "metadata": {},
     "output_type": "execute_result"
    }
   ],
   "source": [
    "df[df[\"length\"].isna()==True]"
   ]
  },
  {
   "cell_type": "code",
   "execution_count": 158,
   "metadata": {},
   "outputs": [],
   "source": [
    "df.dropna(inplace=True)"
   ]
  },
  {
   "cell_type": "code",
   "execution_count": 159,
   "metadata": {},
   "outputs": [
    {
     "data": {
      "text/html": [
       "<div>\n",
       "<style scoped>\n",
       "    .dataframe tbody tr th:only-of-type {\n",
       "        vertical-align: middle;\n",
       "    }\n",
       "\n",
       "    .dataframe tbody tr th {\n",
       "        vertical-align: top;\n",
       "    }\n",
       "\n",
       "    .dataframe thead th {\n",
       "        text-align: right;\n",
       "    }\n",
       "</style>\n",
       "<table border=\"1\" class=\"dataframe\">\n",
       "  <thead>\n",
       "    <tr style=\"text-align: right;\">\n",
       "      <th></th>\n",
       "      <th>desc</th>\n",
       "      <th>rate</th>\n",
       "      <th>length</th>\n",
       "      <th>width</th>\n",
       "      <th>thickness</th>\n",
       "    </tr>\n",
       "  </thead>\n",
       "  <tbody>\n",
       "    <tr>\n",
       "      <th>0</th>\n",
       "      <td>PJSteel Plank Pl. 825x357x2mm</td>\n",
       "      <td>168</td>\n",
       "      <td>825</td>\n",
       "      <td>357</td>\n",
       "      <td>2.0</td>\n",
       "    </tr>\n",
       "    <tr>\n",
       "      <th>1</th>\n",
       "      <td>Side Pl.(1Bs) 221x60x2mm</td>\n",
       "      <td>325</td>\n",
       "      <td>221</td>\n",
       "      <td>60</td>\n",
       "      <td>2.0</td>\n",
       "    </tr>\n",
       "    <tr>\n",
       "      <th>2</th>\n",
       "      <td>Side Pl.(2AC) 221x58x2mm</td>\n",
       "      <td>325</td>\n",
       "      <td>221</td>\n",
       "      <td>58</td>\n",
       "      <td>2.0</td>\n",
       "    </tr>\n",
       "    <tr>\n",
       "      <th>3</th>\n",
       "      <td>PJSteel Plank Pl. 1008x357x2mm</td>\n",
       "      <td>165</td>\n",
       "      <td>1008</td>\n",
       "      <td>357</td>\n",
       "      <td>2.0</td>\n",
       "    </tr>\n",
       "    <tr>\n",
       "      <th>4</th>\n",
       "      <td>U Plate 217x91x2mm</td>\n",
       "      <td>257</td>\n",
       "      <td>217</td>\n",
       "      <td>91</td>\n",
       "      <td>2.0</td>\n",
       "    </tr>\n",
       "    <tr>\n",
       "      <th>...</th>\n",
       "      <td>...</td>\n",
       "      <td>...</td>\n",
       "      <td>...</td>\n",
       "      <td>...</td>\n",
       "      <td>...</td>\n",
       "    </tr>\n",
       "    <tr>\n",
       "      <th>109</th>\n",
       "      <td>Steel Plank 2315x528x1.5mm</td>\n",
       "      <td>94</td>\n",
       "      <td>2315</td>\n",
       "      <td>528</td>\n",
       "      <td>1.5</td>\n",
       "    </tr>\n",
       "    <tr>\n",
       "      <th>110</th>\n",
       "      <td>Steel Plank 2415xx528x1.5mm</td>\n",
       "      <td>94</td>\n",
       "      <td>2415</td>\n",
       "      <td>528</td>\n",
       "      <td>1.5</td>\n",
       "    </tr>\n",
       "    <tr>\n",
       "      <th>111</th>\n",
       "      <td>Steel Plank Hook 134x50x4mm</td>\n",
       "      <td>135</td>\n",
       "      <td>134</td>\n",
       "      <td>50</td>\n",
       "      <td>4.0</td>\n",
       "    </tr>\n",
       "    <tr>\n",
       "      <th>112</th>\n",
       "      <td>Steel Plank 2915xx528x1.5mm</td>\n",
       "      <td>88</td>\n",
       "      <td>2915</td>\n",
       "      <td>528</td>\n",
       "      <td>1.5</td>\n",
       "    </tr>\n",
       "    <tr>\n",
       "      <th>113</th>\n",
       "      <td>Steel Plank Hook 134x50x4mm</td>\n",
       "      <td>135</td>\n",
       "      <td>134</td>\n",
       "      <td>50</td>\n",
       "      <td>4.0</td>\n",
       "    </tr>\n",
       "  </tbody>\n",
       "</table>\n",
       "<p>113 rows × 5 columns</p>\n",
       "</div>"
      ],
      "text/plain": [
       "                               desc  rate length width thickness\n",
       "0     PJSteel Plank Pl. 825x357x2mm   168    825   357       2.0\n",
       "1          Side Pl.(1Bs) 221x60x2mm   325    221    60       2.0\n",
       "2          Side Pl.(2AC) 221x58x2mm   325    221    58       2.0\n",
       "3    PJSteel Plank Pl. 1008x357x2mm   165   1008   357       2.0\n",
       "4                U Plate 217x91x2mm   257    217    91       2.0\n",
       "..                              ...   ...    ...   ...       ...\n",
       "109      Steel Plank 2315x528x1.5mm    94   2315   528       1.5\n",
       "110     Steel Plank 2415xx528x1.5mm    94   2415   528       1.5\n",
       "111     Steel Plank Hook 134x50x4mm   135    134    50       4.0\n",
       "112     Steel Plank 2915xx528x1.5mm    88   2915   528       1.5\n",
       "113     Steel Plank Hook 134x50x4mm   135    134    50       4.0\n",
       "\n",
       "[113 rows x 5 columns]"
      ]
     },
     "execution_count": 159,
     "metadata": {},
     "output_type": "execute_result"
    }
   ],
   "source": [
    "df"
   ]
  },
  {
   "cell_type": "code",
   "execution_count": 160,
   "metadata": {},
   "outputs": [],
   "source": [
    "from sklearn.linear_model import LinearRegression\n"
   ]
  },
  {
   "cell_type": "code",
   "execution_count": 161,
   "metadata": {},
   "outputs": [],
   "source": [
    "X = df[['length', 'width', 'thickness']].values\n",
    "y = df['rate'].values\n"
   ]
  },
  {
   "cell_type": "code",
   "execution_count": 162,
   "metadata": {},
   "outputs": [],
   "source": [
    "model = LinearRegression()\n",
    "model.fit(X, y)\n",
    "\n",
    "# Get the coefficients of the linear model\n",
    "coeffs = model.coef_\n"
   ]
  },
  {
   "cell_type": "code",
   "execution_count": 163,
   "metadata": {},
   "outputs": [
    {
     "data": {
      "text/plain": [
       "array([2.0, 6.0, 4.0, 1.5], dtype=object)"
      ]
     },
     "execution_count": 163,
     "metadata": {},
     "output_type": "execute_result"
    }
   ],
   "source": [
    "df[\"thickness\"].unique()"
   ]
  },
  {
   "cell_type": "code",
   "execution_count": 45,
   "metadata": {},
   "outputs": [
    {
     "data": {
      "text/plain": [
       "array([-3.31381187e-02, -3.28926035e-01, -4.65548038e+01])"
      ]
     },
     "execution_count": 45,
     "metadata": {},
     "output_type": "execute_result"
    }
   ],
   "source": [
    "coeffs"
   ]
  },
  {
   "cell_type": "code",
   "execution_count": 164,
   "metadata": {},
   "outputs": [
    {
     "name": "stdout",
     "output_type": "stream",
     "text": [
      "rate = -0.03 + -0.33*length + -46.55*width\n"
     ]
    }
   ],
   "source": [
    "print(f\"rate = {coeffs[0]:.2f} + {coeffs[1]:.2f}*length + {coeffs[2]:.2f}*width\")"
   ]
  },
  {
   "cell_type": "code",
   "execution_count": 63,
   "metadata": {},
   "outputs": [],
   "source": [
    "from sklearn.linear_model import LinearRegression\n",
    "from sklearn.preprocessing import PolynomialFeatures\n",
    "import pandas as pd\n",
    "\n",
    "# Load the DataFrame containing length, width, thickness, and rate\n",
    "\n",
    "# Create the feature matrix X and the target vector y\n",
    "X = df[['length', 'width', 'thickness']].values\n",
    "y = df['rate'].values\n",
    "\n",
    "# Create polynomial features up to degree 2\n",
    "poly = PolynomialFeatures(degree=2, include_bias=False)\n",
    "X_poly = poly.fit_transform(X)\n",
    "\n",
    "# Fit a linear regression model to the polynomial features\n",
    "model = LinearRegression()\n",
    "model.fit(X_poly, y)\n",
    "\n",
    "# Get the coefficients of the polynomial model\n",
    "coeffs = model.coef_\n",
    "\n",
    "# Print the equation of the polynomial model\n"
   ]
  },
  {
   "cell_type": "code",
   "execution_count": 72,
   "metadata": {},
   "outputs": [
    {
     "ename": "IndexError",
     "evalue": "index 9 is out of bounds for axis 0 with size 9",
     "output_type": "error",
     "traceback": [
      "\u001b[1;31m---------------------------------------------------------------------------\u001b[0m",
      "\u001b[1;31mIndexError\u001b[0m                                Traceback (most recent call last)",
      "\u001b[1;32m<ipython-input-72-1a9d92e411ed>\u001b[0m in \u001b[0;36m<module>\u001b[1;34m\u001b[0m\n\u001b[0;32m     20\u001b[0m \u001b[1;33m\u001b[0m\u001b[0m\n\u001b[0;32m     21\u001b[0m \u001b[1;31m# Print the equation of the polynomial model\u001b[0m\u001b[1;33m\u001b[0m\u001b[1;33m\u001b[0m\u001b[1;33m\u001b[0m\u001b[0m\n\u001b[1;32m---> 22\u001b[1;33m \u001b[0mprint\u001b[0m\u001b[1;33m(\u001b[0m\u001b[1;34mf\"rate = {coeffs[0]:.2f} + {coeffs[1]:.2f}*length + {coeffs[2]:.2f}*width + {coeffs[3]:.2f}*thickness + {coeffs[4]:.2f}*length^2 + {coeffs[5]:.2f}*width^2 + {coeffs[6]:.2f}*thickness^2 + {coeffs[7]:.2f}*length*width + {coeffs[8]:.2f}*length*thickness + {coeffs[9]:.2f}*width*thickness\"\u001b[0m\u001b[1;33m)\u001b[0m\u001b[1;33m\u001b[0m\u001b[1;33m\u001b[0m\u001b[0m\n\u001b[0m\u001b[0;32m     23\u001b[0m \u001b[1;33m\u001b[0m\u001b[0m\n\u001b[0;32m     24\u001b[0m \u001b[1;31m# Predict the rate for new dimensions\u001b[0m\u001b[1;33m\u001b[0m\u001b[1;33m\u001b[0m\u001b[1;33m\u001b[0m\u001b[0m\n",
      "\u001b[1;31mIndexError\u001b[0m: index 9 is out of bounds for axis 0 with size 9"
     ]
    }
   ],
   "source": [
    "from sklearn.preprocessing import PolynomialFeatures\n",
    "import pandas as pd\n",
    "\n",
    "# Load the DataFrame containing length, width, thickness, and rate\n",
    "\n",
    "# Create the feature matrix X and the target vector y\n",
    "X = df[['length', 'width', 'thickness']].values\n",
    "y = df['rate'].values\n",
    "\n",
    "# Create polynomial features up to degree 2\n",
    "poly = PolynomialFeatures(degree=2, include_bias=False)\n",
    "X_poly = poly.fit_transform(X)\n",
    "\n",
    "# Fit a linear regression model to the polynomial features\n",
    "model = LinearRegression()\n",
    "model.fit(X_poly, y)\n",
    "\n",
    "# Get the coefficients of the polynomial model\n",
    "coeffs = model.coef_\n",
    "\n",
    "# Print the equation of the polynomial model\n",
    "print(f\"rate = {coeffs[0]:.2f} + {coeffs[1]:.2f}*length + {coeffs[2]:.2f}*width + {coeffs[3]:.2f}*thickness + {coeffs[4]:.2f}*length^2 + {coeffs[5]:.2f}*width^2 + {coeffs[6]:.2f}*thickness^2 + {coeffs[7]:.2f}*length*width + {coeffs[8]:.2f}*length*thickness + {coeffs[9]:.2f}*width*thickness\")\n",
    "\n",
    "# Predict the rate for new dimensions\n",
    "length = 5000\n",
    "width = 300\n",
    "thickness = 5\n",
    "X_new = poly.transform([[length, width, thickness]])\n",
    "rate = model.predict(X_new)\n",
    "print(f\"The rate for dimensions {length}x{width}x{thickness} is {rate[0]:.2f}\")\n"
   ]
  },
  {
   "cell_type": "code",
   "execution_count": 83,
   "metadata": {},
   "outputs": [
    {
     "name": "stdout",
     "output_type": "stream",
     "text": [
      "rate = -16.85 + -48.57*length + -36.28*width + 0.00*thickness + -0.01*length^2 + 20.70*width^2 + -0.00*thickness^2 + 58.01*length*width + -537.39*length*thickness + 0.00*width*thickness + -0.00*length^3 + -0.00*width^3 + 0.00*thickness^3 + 0.00*length^2*width + -6.10*length^2*thickness + -0.00*width^2*length + 0.01*width^2*thickness + -17.63*thickness^2*length + 273.28*thickness^2*width\n",
      "The rate for dimensions 3000x1500x1.5 is -1613.39\n"
     ]
    }
   ],
   "source": [
    "from sklearn.preprocessing import PolynomialFeatures\n",
    "from sklearn.linear_model import LinearRegression\n",
    "import pandas as pd\n",
    "\n",
    "# Load the DataFrame containing length, width, thickness, and rate\n",
    "\n",
    "# Create the feature matrix X and the target vector y\n",
    "X = df[['length', 'width', 'thickness']].values\n",
    "y = df['rate'].values\n",
    "\n",
    "# Create polynomial features up to degree 3\n",
    "poly = PolynomialFeatures(degree=3, include_bias=False)\n",
    "X_poly = poly.fit_transform(X)\n",
    "\n",
    "# Fit a linear regression model to the polynomial features\n",
    "model = LinearRegression()\n",
    "model.fit(X_poly, y)\n",
    "\n",
    "# Get the coefficients of the polynomial model\n",
    "coeffs = model.coef_\n",
    "\n",
    "# Print the equation of the polynomial model\n",
    "print(f\"rate = {coeffs[0]:.2f} + {coeffs[1]:.2f}*length + {coeffs[2]:.2f}*width + {coeffs[3]:.2f}*thickness + {coeffs[4]:.2f}*length^2 + {coeffs[5]:.2f}*width^2 + {coeffs[6]:.2f}*thickness^2 + {coeffs[7]:.2f}*length*width + {coeffs[8]:.2f}*length*thickness + {coeffs[9]:.2f}*width*thickness + {coeffs[10]:.2f}*length^3 + {coeffs[11]:.2f}*width^3 + {coeffs[12]:.2f}*thickness^3 + {coeffs[13]:.2f}*length^2*width + {coeffs[14]:.2f}*length^2*thickness + {coeffs[15]:.2f}*width^2*length + {coeffs[16]:.2f}*width^2*thickness + {coeffs[17]:.2f}*thickness^2*length + {coeffs[18]:.2f}*thickness^2*width\")\n",
    "\n",
    "# Predict the rate for new dimensions\n",
    "length = 3000\n",
    "width = 1500\n",
    "thickness = 1.5\n",
    "X_new = poly.transform([[length, width, thickness]])\n",
    "rate = model.predict(X_new)\n",
    "print(f\"The rate for dimensions {length}x{width}x{thickness} is {rate[0]:.2f}\")\n"
   ]
  },
  {
   "cell_type": "code",
   "execution_count": 85,
   "metadata": {},
   "outputs": [
    {
     "data": {
      "text/html": [
       "<div>\n",
       "<style scoped>\n",
       "    .dataframe tbody tr th:only-of-type {\n",
       "        vertical-align: middle;\n",
       "    }\n",
       "\n",
       "    .dataframe tbody tr th {\n",
       "        vertical-align: top;\n",
       "    }\n",
       "\n",
       "    .dataframe thead th {\n",
       "        text-align: right;\n",
       "    }\n",
       "</style>\n",
       "<table border=\"1\" class=\"dataframe\">\n",
       "  <thead>\n",
       "    <tr style=\"text-align: right;\">\n",
       "      <th></th>\n",
       "      <th>desc</th>\n",
       "      <th>rate</th>\n",
       "      <th>length</th>\n",
       "      <th>width</th>\n",
       "      <th>thickness</th>\n",
       "    </tr>\n",
       "  </thead>\n",
       "  <tbody>\n",
       "    <tr>\n",
       "      <th>0</th>\n",
       "      <td>PJSteel Plank Pl. 825x357x2mm</td>\n",
       "      <td>168</td>\n",
       "      <td>825</td>\n",
       "      <td>357</td>\n",
       "      <td>2.0</td>\n",
       "    </tr>\n",
       "    <tr>\n",
       "      <th>1</th>\n",
       "      <td>Side Pl.(1Bs) 221x60x2mm</td>\n",
       "      <td>325</td>\n",
       "      <td>221</td>\n",
       "      <td>60</td>\n",
       "      <td>2.0</td>\n",
       "    </tr>\n",
       "    <tr>\n",
       "      <th>2</th>\n",
       "      <td>Side Pl.(2AC) 221x58x2mm</td>\n",
       "      <td>325</td>\n",
       "      <td>221</td>\n",
       "      <td>58</td>\n",
       "      <td>2.0</td>\n",
       "    </tr>\n",
       "    <tr>\n",
       "      <th>3</th>\n",
       "      <td>PJSteel Plank Pl. 1008x357x2mm</td>\n",
       "      <td>165</td>\n",
       "      <td>1008</td>\n",
       "      <td>357</td>\n",
       "      <td>2.0</td>\n",
       "    </tr>\n",
       "    <tr>\n",
       "      <th>4</th>\n",
       "      <td>U Plate 217x91x2mm</td>\n",
       "      <td>257</td>\n",
       "      <td>217</td>\n",
       "      <td>91</td>\n",
       "      <td>2.0</td>\n",
       "    </tr>\n",
       "    <tr>\n",
       "      <th>...</th>\n",
       "      <td>...</td>\n",
       "      <td>...</td>\n",
       "      <td>...</td>\n",
       "      <td>...</td>\n",
       "      <td>...</td>\n",
       "    </tr>\n",
       "    <tr>\n",
       "      <th>109</th>\n",
       "      <td>Steel Plank 2315x528x1.5mm</td>\n",
       "      <td>94</td>\n",
       "      <td>2315</td>\n",
       "      <td>528</td>\n",
       "      <td>1.5</td>\n",
       "    </tr>\n",
       "    <tr>\n",
       "      <th>110</th>\n",
       "      <td>Steel Plank 2415xx528x1.5mm</td>\n",
       "      <td>94</td>\n",
       "      <td>2415</td>\n",
       "      <td>528</td>\n",
       "      <td>1.5</td>\n",
       "    </tr>\n",
       "    <tr>\n",
       "      <th>111</th>\n",
       "      <td>Steel Plank Hook 134x50x4mm</td>\n",
       "      <td>135</td>\n",
       "      <td>134</td>\n",
       "      <td>50</td>\n",
       "      <td>4.0</td>\n",
       "    </tr>\n",
       "    <tr>\n",
       "      <th>112</th>\n",
       "      <td>Steel Plank 2915xx528x1.5mm</td>\n",
       "      <td>88</td>\n",
       "      <td>2915</td>\n",
       "      <td>528</td>\n",
       "      <td>1.5</td>\n",
       "    </tr>\n",
       "    <tr>\n",
       "      <th>113</th>\n",
       "      <td>Steel Plank Hook 134x50x4mm</td>\n",
       "      <td>135</td>\n",
       "      <td>134</td>\n",
       "      <td>50</td>\n",
       "      <td>4.0</td>\n",
       "    </tr>\n",
       "  </tbody>\n",
       "</table>\n",
       "<p>113 rows × 5 columns</p>\n",
       "</div>"
      ],
      "text/plain": [
       "                               desc  rate length width thickness\n",
       "0     PJSteel Plank Pl. 825x357x2mm   168    825   357       2.0\n",
       "1          Side Pl.(1Bs) 221x60x2mm   325    221    60       2.0\n",
       "2          Side Pl.(2AC) 221x58x2mm   325    221    58       2.0\n",
       "3    PJSteel Plank Pl. 1008x357x2mm   165   1008   357       2.0\n",
       "4                U Plate 217x91x2mm   257    217    91       2.0\n",
       "..                              ...   ...    ...   ...       ...\n",
       "109      Steel Plank 2315x528x1.5mm    94   2315   528       1.5\n",
       "110     Steel Plank 2415xx528x1.5mm    94   2415   528       1.5\n",
       "111     Steel Plank Hook 134x50x4mm   135    134    50       4.0\n",
       "112     Steel Plank 2915xx528x1.5mm    88   2915   528       1.5\n",
       "113     Steel Plank Hook 134x50x4mm   135    134    50       4.0\n",
       "\n",
       "[113 rows x 5 columns]"
      ]
     },
     "execution_count": 85,
     "metadata": {},
     "output_type": "execute_result"
    }
   ],
   "source": [
    "df"
   ]
  },
  {
   "cell_type": "code",
   "execution_count": 100,
   "metadata": {},
   "outputs": [
    {
     "name": "stdout",
     "output_type": "stream",
     "text": [
      "rate = 1.04 + 0.18*length + 0.00*width + 1.00*thickness + 0.12*f(length, width, thickness)\n",
      "WARNING:tensorflow:5 out of the last 5 calls to <function Model.make_predict_function.<locals>.predict_function at 0x000002B7A8D010D0> triggered tf.function retracing. Tracing is expensive and the excessive number of tracings could be due to (1) creating @tf.function repeatedly in a loop, (2) passing tensors with different shapes, (3) passing Python objects instead of tensors. For (1), please define your @tf.function outside of the loop. For (2), @tf.function has experimental_relax_shapes=True option that relaxes argument shapes that can avoid unnecessary retracing. For (3), please refer to https://www.tensorflow.org/guide/function#controlling_retracing and https://www.tensorflow.org/api_docs/python/tf/function for  more details.\n",
      "[[127.629524]]\n",
      "The rate for dimensions 2915x428x1.5 is 127.63\n"
     ]
    }
   ],
   "source": [
    "import tensorflow as tf\n",
    "from tensorflow import keras\n",
    "import pandas as pd\n",
    "import numpy as np\n",
    "\n",
    "# Load the DataFrame containing length, width, thickness, and rate\n",
    "\n",
    "# Create the feature matrix X and the target vector y\n",
    "X = df[['length', 'width', 'thickness']].values\n",
    "y = df['rate'].values\n",
    "\n",
    "# Define the neural network architecture\n",
    "model = keras.Sequential([\n",
    "    keras.layers.Dense(64, input_dim=3, activation='relu'),\n",
    "    keras.layers.Dense(1)\n",
    "])\n",
    "\n",
    "# Compile the model\n",
    "model.compile(loss='mean_squared_error', optimizer='adam')\n",
    "\n",
    "# Train the model\n",
    "model.fit(X, y, epochs=100, batch_size=10, verbose=0)\n",
    "\n",
    "# Get the coefficients of the neural network\n",
    "weights = model.get_weights()\n",
    "W1 = weights[0]\n",
    "b1 = weights[1]\n",
    "W2 = weights[2]\n",
    "b2 = weights[3]\n",
    "\n",
    "# Print the equation of the neural network\n",
    "# print(f\"rate = {b2[0]:.2f} + {W1[0][0]:.2f}*length + {W1[1][0]:.2f}*width + {W1[2][0]:.2f}*thickness + {W2[0]:.2f}*f(length, width, thickness)\")\n",
    "print(\"rate = {:.2f} + {:.2f}*length + {:.2f}*width + {:.2f}*thickness + {:.2f}*f(length, width, thickness)\".format(\n",
    "    float(b2[0]), float(W1[0][0]), float(W1[1][0]), float(W1[2][0]), float(W2[0])\n",
    "))\n",
    "\n",
    "# Define the activation function of the hidden layer\n",
    "h = lambda x: np.maximum(x, 0)\n",
    "\n",
    "# Define the function f that represents the output of the hidden layer\n",
    "def f(x1, x2, x3):\n",
    "    return h(W1[0][1]*x1 + W1[1][1]*x2 + W1[2][1]*x3 + b1[1])\n",
    "\n",
    "# Predict the rate for new dimensions\n",
    "length = 2915\n",
    "width = 428\n",
    "thickness = 1.5\n",
    "rate = model.predict([[length, width, thickness]])\n",
    "print(rate)\n",
    "print(f\"The rate for dimensions {length}x{width}x{thickness} is {rate[0][0]:.2f}\")\n"
   ]
  },
  {
   "cell_type": "code",
   "execution_count": 87,
   "metadata": {},
   "outputs": [
    {
     "name": "stdout",
     "output_type": "stream",
     "text": [
      "<class 'pandas.core.frame.DataFrame'>\n",
      "Int64Index: 113 entries, 0 to 113\n",
      "Data columns (total 5 columns):\n",
      " #   Column     Non-Null Count  Dtype \n",
      "---  ------     --------------  ----- \n",
      " 0   desc       113 non-null    object\n",
      " 1   rate       113 non-null    int64 \n",
      " 2   length     113 non-null    object\n",
      " 3   width      113 non-null    object\n",
      " 4   thickness  113 non-null    object\n",
      "dtypes: int64(1), object(4)\n",
      "memory usage: 5.3+ KB\n"
     ]
    }
   ],
   "source": [
    "df.info()"
   ]
  },
  {
   "cell_type": "code",
   "execution_count": 167,
   "metadata": {},
   "outputs": [],
   "source": [
    "df[\"length\"] = pd.to_numeric(df[\"length\"])"
   ]
  },
  {
   "cell_type": "code",
   "execution_count": 168,
   "metadata": {},
   "outputs": [],
   "source": [
    "df[\"width\"] = pd.to_numeric(df[\"width\"])"
   ]
  },
  {
   "cell_type": "code",
   "execution_count": 169,
   "metadata": {},
   "outputs": [],
   "source": [
    "df[\"thickness\"]=pd.to_numeric(df[\"thickness\"])"
   ]
  },
  {
   "cell_type": "code",
   "execution_count": 170,
   "metadata": {},
   "outputs": [
    {
     "name": "stdout",
     "output_type": "stream",
     "text": [
      "<class 'pandas.core.frame.DataFrame'>\n",
      "Int64Index: 113 entries, 0 to 113\n",
      "Data columns (total 5 columns):\n",
      " #   Column     Non-Null Count  Dtype  \n",
      "---  ------     --------------  -----  \n",
      " 0   desc       113 non-null    object \n",
      " 1   rate       113 non-null    int64  \n",
      " 2   length     113 non-null    int64  \n",
      " 3   width      113 non-null    int64  \n",
      " 4   thickness  113 non-null    float64\n",
      "dtypes: float64(1), int64(3), object(1)\n",
      "memory usage: 5.3+ KB\n"
     ]
    }
   ],
   "source": [
    "df.info()"
   ]
  },
  {
   "cell_type": "code",
   "execution_count": 171,
   "metadata": {},
   "outputs": [
    {
     "ename": "FileNotFoundError",
     "evalue": "[Errno 2] No such file or directory: 'data.csv'",
     "output_type": "error",
     "traceback": [
      "\u001b[1;31m---------------------------------------------------------------------------\u001b[0m",
      "\u001b[1;31mFileNotFoundError\u001b[0m                         Traceback (most recent call last)",
      "\u001b[1;32m<ipython-input-171-7916891585f4>\u001b[0m in \u001b[0;36m<module>\u001b[1;34m\u001b[0m\n\u001b[0;32m      8\u001b[0m \u001b[1;33m\u001b[0m\u001b[0m\n\u001b[0;32m      9\u001b[0m \u001b[1;31m# Load the DataFrame containing length, width, thickness, and rate\u001b[0m\u001b[1;33m\u001b[0m\u001b[1;33m\u001b[0m\u001b[1;33m\u001b[0m\u001b[0m\n\u001b[1;32m---> 10\u001b[1;33m \u001b[0mdf\u001b[0m \u001b[1;33m=\u001b[0m \u001b[0mpd\u001b[0m\u001b[1;33m.\u001b[0m\u001b[0mread_csv\u001b[0m\u001b[1;33m(\u001b[0m\u001b[1;34m'data.csv'\u001b[0m\u001b[1;33m)\u001b[0m\u001b[1;33m\u001b[0m\u001b[1;33m\u001b[0m\u001b[0m\n\u001b[0m\u001b[0;32m     11\u001b[0m \u001b[1;33m\u001b[0m\u001b[0m\n\u001b[0;32m     12\u001b[0m \u001b[1;31m# Create the feature matrix X and the target vector y\u001b[0m\u001b[1;33m\u001b[0m\u001b[1;33m\u001b[0m\u001b[1;33m\u001b[0m\u001b[0m\n",
      "\u001b[1;32mc:\\Users\\abdallah.ashry\\Anaconda3\\lib\\site-packages\\pandas\\io\\parsers.py\u001b[0m in \u001b[0;36mread_csv\u001b[1;34m(filepath_or_buffer, sep, delimiter, header, names, index_col, usecols, squeeze, prefix, mangle_dupe_cols, dtype, engine, converters, true_values, false_values, skipinitialspace, skiprows, skipfooter, nrows, na_values, keep_default_na, na_filter, verbose, skip_blank_lines, parse_dates, infer_datetime_format, keep_date_col, date_parser, dayfirst, cache_dates, iterator, chunksize, compression, thousands, decimal, lineterminator, quotechar, quoting, doublequote, escapechar, comment, encoding, dialect, error_bad_lines, warn_bad_lines, delim_whitespace, low_memory, memory_map, float_precision, storage_options)\u001b[0m\n\u001b[0;32m    608\u001b[0m     \u001b[0mkwds\u001b[0m\u001b[1;33m.\u001b[0m\u001b[0mupdate\u001b[0m\u001b[1;33m(\u001b[0m\u001b[0mkwds_defaults\u001b[0m\u001b[1;33m)\u001b[0m\u001b[1;33m\u001b[0m\u001b[1;33m\u001b[0m\u001b[0m\n\u001b[0;32m    609\u001b[0m \u001b[1;33m\u001b[0m\u001b[0m\n\u001b[1;32m--> 610\u001b[1;33m     \u001b[1;32mreturn\u001b[0m \u001b[0m_read\u001b[0m\u001b[1;33m(\u001b[0m\u001b[0mfilepath_or_buffer\u001b[0m\u001b[1;33m,\u001b[0m \u001b[0mkwds\u001b[0m\u001b[1;33m)\u001b[0m\u001b[1;33m\u001b[0m\u001b[1;33m\u001b[0m\u001b[0m\n\u001b[0m\u001b[0;32m    611\u001b[0m \u001b[1;33m\u001b[0m\u001b[0m\n\u001b[0;32m    612\u001b[0m \u001b[1;33m\u001b[0m\u001b[0m\n",
      "\u001b[1;32mc:\\Users\\abdallah.ashry\\Anaconda3\\lib\\site-packages\\pandas\\io\\parsers.py\u001b[0m in \u001b[0;36m_read\u001b[1;34m(filepath_or_buffer, kwds)\u001b[0m\n\u001b[0;32m    460\u001b[0m \u001b[1;33m\u001b[0m\u001b[0m\n\u001b[0;32m    461\u001b[0m     \u001b[1;31m# Create the parser.\u001b[0m\u001b[1;33m\u001b[0m\u001b[1;33m\u001b[0m\u001b[1;33m\u001b[0m\u001b[0m\n\u001b[1;32m--> 462\u001b[1;33m     \u001b[0mparser\u001b[0m \u001b[1;33m=\u001b[0m \u001b[0mTextFileReader\u001b[0m\u001b[1;33m(\u001b[0m\u001b[0mfilepath_or_buffer\u001b[0m\u001b[1;33m,\u001b[0m \u001b[1;33m**\u001b[0m\u001b[0mkwds\u001b[0m\u001b[1;33m)\u001b[0m\u001b[1;33m\u001b[0m\u001b[1;33m\u001b[0m\u001b[0m\n\u001b[0m\u001b[0;32m    463\u001b[0m \u001b[1;33m\u001b[0m\u001b[0m\n\u001b[0;32m    464\u001b[0m     \u001b[1;32mif\u001b[0m \u001b[0mchunksize\u001b[0m \u001b[1;32mor\u001b[0m \u001b[0miterator\u001b[0m\u001b[1;33m:\u001b[0m\u001b[1;33m\u001b[0m\u001b[1;33m\u001b[0m\u001b[0m\n",
      "\u001b[1;32mc:\\Users\\abdallah.ashry\\Anaconda3\\lib\\site-packages\\pandas\\io\\parsers.py\u001b[0m in \u001b[0;36m__init__\u001b[1;34m(self, f, engine, **kwds)\u001b[0m\n\u001b[0;32m    817\u001b[0m             \u001b[0mself\u001b[0m\u001b[1;33m.\u001b[0m\u001b[0moptions\u001b[0m\u001b[1;33m[\u001b[0m\u001b[1;34m\"has_index_names\"\u001b[0m\u001b[1;33m]\u001b[0m \u001b[1;33m=\u001b[0m \u001b[0mkwds\u001b[0m\u001b[1;33m[\u001b[0m\u001b[1;34m\"has_index_names\"\u001b[0m\u001b[1;33m]\u001b[0m\u001b[1;33m\u001b[0m\u001b[1;33m\u001b[0m\u001b[0m\n\u001b[0;32m    818\u001b[0m \u001b[1;33m\u001b[0m\u001b[0m\n\u001b[1;32m--> 819\u001b[1;33m         \u001b[0mself\u001b[0m\u001b[1;33m.\u001b[0m\u001b[0m_engine\u001b[0m \u001b[1;33m=\u001b[0m \u001b[0mself\u001b[0m\u001b[1;33m.\u001b[0m\u001b[0m_make_engine\u001b[0m\u001b[1;33m(\u001b[0m\u001b[0mself\u001b[0m\u001b[1;33m.\u001b[0m\u001b[0mengine\u001b[0m\u001b[1;33m)\u001b[0m\u001b[1;33m\u001b[0m\u001b[1;33m\u001b[0m\u001b[0m\n\u001b[0m\u001b[0;32m    820\u001b[0m \u001b[1;33m\u001b[0m\u001b[0m\n\u001b[0;32m    821\u001b[0m     \u001b[1;32mdef\u001b[0m \u001b[0mclose\u001b[0m\u001b[1;33m(\u001b[0m\u001b[0mself\u001b[0m\u001b[1;33m)\u001b[0m\u001b[1;33m:\u001b[0m\u001b[1;33m\u001b[0m\u001b[1;33m\u001b[0m\u001b[0m\n",
      "\u001b[1;32mc:\\Users\\abdallah.ashry\\Anaconda3\\lib\\site-packages\\pandas\\io\\parsers.py\u001b[0m in \u001b[0;36m_make_engine\u001b[1;34m(self, engine)\u001b[0m\n\u001b[0;32m   1048\u001b[0m             )\n\u001b[0;32m   1049\u001b[0m         \u001b[1;31m# error: Too many arguments for \"ParserBase\"\u001b[0m\u001b[1;33m\u001b[0m\u001b[1;33m\u001b[0m\u001b[1;33m\u001b[0m\u001b[0m\n\u001b[1;32m-> 1050\u001b[1;33m         \u001b[1;32mreturn\u001b[0m \u001b[0mmapping\u001b[0m\u001b[1;33m[\u001b[0m\u001b[0mengine\u001b[0m\u001b[1;33m]\u001b[0m\u001b[1;33m(\u001b[0m\u001b[0mself\u001b[0m\u001b[1;33m.\u001b[0m\u001b[0mf\u001b[0m\u001b[1;33m,\u001b[0m \u001b[1;33m**\u001b[0m\u001b[0mself\u001b[0m\u001b[1;33m.\u001b[0m\u001b[0moptions\u001b[0m\u001b[1;33m)\u001b[0m  \u001b[1;31m# type: ignore[call-arg]\u001b[0m\u001b[1;33m\u001b[0m\u001b[1;33m\u001b[0m\u001b[0m\n\u001b[0m\u001b[0;32m   1051\u001b[0m \u001b[1;33m\u001b[0m\u001b[0m\n\u001b[0;32m   1052\u001b[0m     \u001b[1;32mdef\u001b[0m \u001b[0m_failover_to_python\u001b[0m\u001b[1;33m(\u001b[0m\u001b[0mself\u001b[0m\u001b[1;33m)\u001b[0m\u001b[1;33m:\u001b[0m\u001b[1;33m\u001b[0m\u001b[1;33m\u001b[0m\u001b[0m\n",
      "\u001b[1;32mc:\\Users\\abdallah.ashry\\Anaconda3\\lib\\site-packages\\pandas\\io\\parsers.py\u001b[0m in \u001b[0;36m__init__\u001b[1;34m(self, src, **kwds)\u001b[0m\n\u001b[0;32m   1865\u001b[0m \u001b[1;33m\u001b[0m\u001b[0m\n\u001b[0;32m   1866\u001b[0m         \u001b[1;31m# open handles\u001b[0m\u001b[1;33m\u001b[0m\u001b[1;33m\u001b[0m\u001b[1;33m\u001b[0m\u001b[0m\n\u001b[1;32m-> 1867\u001b[1;33m         \u001b[0mself\u001b[0m\u001b[1;33m.\u001b[0m\u001b[0m_open_handles\u001b[0m\u001b[1;33m(\u001b[0m\u001b[0msrc\u001b[0m\u001b[1;33m,\u001b[0m \u001b[0mkwds\u001b[0m\u001b[1;33m)\u001b[0m\u001b[1;33m\u001b[0m\u001b[1;33m\u001b[0m\u001b[0m\n\u001b[0m\u001b[0;32m   1868\u001b[0m         \u001b[1;32massert\u001b[0m \u001b[0mself\u001b[0m\u001b[1;33m.\u001b[0m\u001b[0mhandles\u001b[0m \u001b[1;32mis\u001b[0m \u001b[1;32mnot\u001b[0m \u001b[1;32mNone\u001b[0m\u001b[1;33m\u001b[0m\u001b[1;33m\u001b[0m\u001b[0m\n\u001b[0;32m   1869\u001b[0m         \u001b[1;32mfor\u001b[0m \u001b[0mkey\u001b[0m \u001b[1;32min\u001b[0m \u001b[1;33m(\u001b[0m\u001b[1;34m\"storage_options\"\u001b[0m\u001b[1;33m,\u001b[0m \u001b[1;34m\"encoding\"\u001b[0m\u001b[1;33m,\u001b[0m \u001b[1;34m\"memory_map\"\u001b[0m\u001b[1;33m,\u001b[0m \u001b[1;34m\"compression\"\u001b[0m\u001b[1;33m)\u001b[0m\u001b[1;33m:\u001b[0m\u001b[1;33m\u001b[0m\u001b[1;33m\u001b[0m\u001b[0m\n",
      "\u001b[1;32mc:\\Users\\abdallah.ashry\\Anaconda3\\lib\\site-packages\\pandas\\io\\parsers.py\u001b[0m in \u001b[0;36m_open_handles\u001b[1;34m(self, src, kwds)\u001b[0m\n\u001b[0;32m   1360\u001b[0m         \u001b[0mLet\u001b[0m \u001b[0mthe\u001b[0m \u001b[0mreaders\u001b[0m \u001b[0mopen\u001b[0m \u001b[0mIOHanldes\u001b[0m \u001b[0mafter\u001b[0m \u001b[0mthey\u001b[0m \u001b[0mare\u001b[0m \u001b[0mdone\u001b[0m \u001b[1;32mwith\u001b[0m \u001b[0mtheir\u001b[0m \u001b[0mpotential\u001b[0m \u001b[0mraises\u001b[0m\u001b[1;33m.\u001b[0m\u001b[1;33m\u001b[0m\u001b[1;33m\u001b[0m\u001b[0m\n\u001b[0;32m   1361\u001b[0m         \"\"\"\n\u001b[1;32m-> 1362\u001b[1;33m         self.handles = get_handle(\n\u001b[0m\u001b[0;32m   1363\u001b[0m             \u001b[0msrc\u001b[0m\u001b[1;33m,\u001b[0m\u001b[1;33m\u001b[0m\u001b[1;33m\u001b[0m\u001b[0m\n\u001b[0;32m   1364\u001b[0m             \u001b[1;34m\"r\"\u001b[0m\u001b[1;33m,\u001b[0m\u001b[1;33m\u001b[0m\u001b[1;33m\u001b[0m\u001b[0m\n",
      "\u001b[1;32mc:\\Users\\abdallah.ashry\\Anaconda3\\lib\\site-packages\\pandas\\io\\common.py\u001b[0m in \u001b[0;36mget_handle\u001b[1;34m(path_or_buf, mode, encoding, compression, memory_map, is_text, errors, storage_options)\u001b[0m\n\u001b[0;32m    640\u001b[0m                 \u001b[0merrors\u001b[0m \u001b[1;33m=\u001b[0m \u001b[1;34m\"replace\"\u001b[0m\u001b[1;33m\u001b[0m\u001b[1;33m\u001b[0m\u001b[0m\n\u001b[0;32m    641\u001b[0m             \u001b[1;31m# Encoding\u001b[0m\u001b[1;33m\u001b[0m\u001b[1;33m\u001b[0m\u001b[1;33m\u001b[0m\u001b[0m\n\u001b[1;32m--> 642\u001b[1;33m             handle = open(\n\u001b[0m\u001b[0;32m    643\u001b[0m                 \u001b[0mhandle\u001b[0m\u001b[1;33m,\u001b[0m\u001b[1;33m\u001b[0m\u001b[1;33m\u001b[0m\u001b[0m\n\u001b[0;32m    644\u001b[0m                 \u001b[0mioargs\u001b[0m\u001b[1;33m.\u001b[0m\u001b[0mmode\u001b[0m\u001b[1;33m,\u001b[0m\u001b[1;33m\u001b[0m\u001b[1;33m\u001b[0m\u001b[0m\n",
      "\u001b[1;31mFileNotFoundError\u001b[0m: [Errno 2] No such file or directory: 'data.csv'"
     ]
    }
   ],
   "source": [
    "import pandas as pd\n",
    "import numpy as np\n",
    "from sklearn.preprocessing import StandardScaler, MinMaxScaler\n",
    "from sklearn.linear_model import LinearRegression\n",
    "from sklearn.pipeline import make_pipeline\n",
    "from sklearn.preprocessing import PolynomialFeatures\n",
    "from sklearn.metrics import mean_squared_error\n",
    "\n",
    "# Load the DataFrame containing length, width, thickness, and rate\n",
    "df = pd.read_csv('data.csv')\n",
    "\n",
    "# Create the feature matrix X and the target vector y\n",
    "X = df[['length', 'width', 'thickness']].values\n",
    "y = df['rate'].values\n",
    "\n",
    "# Normalize the data\n",
    "scaler = MinMaxScaler()\n",
    "X = scaler.fit_transform(X)\n",
    "\n",
    "# Standardize the data\n",
    "scaler = StandardScaler()\n",
    "X = scaler.fit_transform(X)\n",
    "\n",
    "# Fit the polynomial regression model with degree 2\n",
    "model = make_pipeline(PolynomialFeatures(degree=2), LinearRegression())\n",
    "model.fit(X, y)\n",
    "\n",
    "# Predict the rate for new dimensions\n",
    "length = 2915\n",
    "width = 428\n",
    "thickness = 1.5\n",
    "X_new = scaler.transform([[length, width, thickness]])\n",
    "rate = model.predict(X_new)\n",
    "\n",
    "print(f\"The rate for dimensions {length}x{width}x{thickness} is {rate[0]:.2f}\")\n",
    "\n",
    "# Calculate the mean squared error of the model\n",
    "y_pred = model.predict(X)\n",
    "mse = mean_squared_error(y, y_pred)\n",
    "print(f\"Mean squared error: {mse:.2f}\")\n"
   ]
  },
  {
   "cell_type": "code",
   "execution_count": 172,
   "metadata": {},
   "outputs": [
    {
     "name": "stdout",
     "output_type": "stream",
     "text": [
      "The rate for dimensions 2915x428x1.5 is -111772139.49\n",
      "Mean squared error: 2313.47\n"
     ]
    }
   ],
   "source": [
    "import pandas as pd\n",
    "import numpy as np\n",
    "from sklearn.preprocessing import StandardScaler, MinMaxScaler\n",
    "from sklearn.linear_model import LinearRegression\n",
    "from sklearn.pipeline import make_pipeline\n",
    "from sklearn.preprocessing import PolynomialFeatures\n",
    "from sklearn.metrics import mean_squared_error\n",
    "\n",
    "# Load the DataFrame containing length, width, thickness, and rate\n",
    "\n",
    "# Create the feature matrix X and the target vector y\n",
    "X = df[['length', 'width', 'thickness']].values\n",
    "y = df['rate'].values\n",
    "\n",
    "# Normalize the data\n",
    "scaler = MinMaxScaler()\n",
    "X = scaler.fit_transform(X)\n",
    "\n",
    "# Standardize the data\n",
    "scaler = StandardScaler()\n",
    "X = scaler.fit_transform(X)\n",
    "\n",
    "# Fit the polynomial regression model with degree 2\n",
    "model = make_pipeline(PolynomialFeatures(degree=2), LinearRegression())\n",
    "model.fit(X, y)\n",
    "\n",
    "# Predict the rate for new dimensions\n",
    "length = 2915\n",
    "width = 428\n",
    "thickness = 1.5\n",
    "X_new = scaler.transform([[length, width, thickness]])\n",
    "rate = model.predict(X_new)\n",
    "\n",
    "print(f\"The rate for dimensions {length}x{width}x{thickness} is {rate[0]:.2f}\")\n",
    "\n",
    "# Calculate the mean squared error of the model\n",
    "y_pred = model.predict(X)\n",
    "mse = mean_squared_error(y, y_pred)\n",
    "print(f\"Mean squared error: {mse:.2f}\")\n"
   ]
  },
  {
   "cell_type": "code",
   "execution_count": 117,
   "metadata": {},
   "outputs": [
    {
     "name": "stdout",
     "output_type": "stream",
     "text": [
      "rate = 1.14 + -0.41*length + -0.27*width + -2.16*thickness + 2.01*f(length, width, thickness)\n",
      "The rate for dimensions 4488x198x2 is 110.00\n"
     ]
    }
   ],
   "source": [
    "import tensorflow as tf\n",
    "from tensorflow import keras\n",
    "from sklearn.preprocessing import StandardScaler\n",
    "import pandas as pd\n",
    "import numpy as np\n",
    "\n",
    "# Load the DataFrame containing length, width, thickness, and rate\n",
    "\n",
    "# Create the feature matrix X and the target vector y\n",
    "X = df[['length', 'width', 'thickness']].values\n",
    "y = df['rate'].values\n",
    "\n",
    "# Standardize the data\n",
    "scaler = StandardScaler()\n",
    "X = scaler.fit_transform(X)\n",
    "\n",
    "# Define the neural network architecture\n",
    "model = keras.Sequential([\n",
    "    keras.layers.Dense(64, input_dim=3, activation='relu', kernel_regularizer=keras.regularizers.l2(0.01)),\n",
    "    keras.layers.Dense(1, kernel_regularizer=keras.regularizers.l2(0.01))\n",
    "])\n",
    "\n",
    "# Compile the model\n",
    "model.compile(loss='mean_squared_error', optimizer=keras.optimizers.Adam(learning_rate=0.001))\n",
    "\n",
    "# Train the model\n",
    "model.fit(X, y, epochs=500, batch_size=10, verbose=0)\n",
    "\n",
    "# Get the coefficients of the neural network\n",
    "weights = model.get_weights()\n",
    "W1 = weights[0]\n",
    "b1 = weights[1]\n",
    "W2 = weights[2]\n",
    "b2 = weights[3]\n",
    "\n",
    "# Print the equation of the neural network\n",
    "print(\"rate = {:.2f} + {:.2f}*length + {:.2f}*width + {:.2f}*thickness + {:.2f}*f(length, width, thickness)\".format(\n",
    "    float(b2[0]), float(W1[0][0]), float(W1[1][0]), float(W1[2][0]), float(W2[0])\n",
    "))\n",
    "\n",
    "# Define the activation function of the hidden layer\n",
    "h = lambda x: np.maximum(x, 0)\n",
    "\n",
    "# Define the function f that represents the output of the hidden layer\n",
    "def f(x1, x2, x3):\n",
    "    return h(W1[0][1]*x1 + W1[1][1]*x2 + W1[2][1]*x3 + b1[1])\n",
    "\n",
    "# Predict the rate for new dimensions\n",
    "length = 4488\n",
    "width = 198\n",
    "thickness = 2\n",
    "x = scaler.transform([[length, width, thickness]])\n",
    "rate = model.predict(x)\n",
    "print(f\"The rate for dimensions {length}x{width}x{thickness} is {rate[0][0]:.2f}\")\n"
   ]
  },
  {
   "cell_type": "code",
   "execution_count": 120,
   "metadata": {},
   "outputs": [
    {
     "name": "stdout",
     "output_type": "stream",
     "text": [
      "The rate for dimensions 3988x198x2 is 108.68\n"
     ]
    }
   ],
   "source": [
    "length = 3988\n",
    "width = 198\n",
    "thickness = 2\n",
    "x = scaler.transform([[length, width, thickness]])\n",
    "rate = model.predict(x)\n",
    "print(f\"The rate for dimensions {length}x{width}x{thickness} is {rate[0][0]:.2f}\")\n"
   ]
  },
  {
   "cell_type": "code",
   "execution_count": null,
   "metadata": {},
   "outputs": [],
   "source": []
  }
 ],
 "metadata": {
  "kernelspec": {
   "display_name": "base",
   "language": "python",
   "name": "python3"
  },
  "language_info": {
   "codemirror_mode": {
    "name": "ipython",
    "version": 3
   },
   "file_extension": ".py",
   "mimetype": "text/x-python",
   "name": "python",
   "nbconvert_exporter": "python",
   "pygments_lexer": "ipython3",
   "version": "3.8.8"
  },
  "orig_nbformat": 4,
  "vscode": {
   "interpreter": {
    "hash": "5436bd6370026a4580e1e33968571bc56269996e16448050119e425315c243d6"
   }
  }
 },
 "nbformat": 4,
 "nbformat_minor": 2
}
