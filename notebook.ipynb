{
 "cells": [
  {
   "cell_type": "code",
   "execution_count": null,
   "metadata": {},
   "outputs": [],
   "source": [
    "item code\titem description\tmaterial description\tColumn2\tdept1\tprocess1\tmachine1\tno1\tColumn1\tdept2\tprocess2\tmachine2\tno2\tColumn3\tdept3\tprocess3\tmachine3\tno3\tColumn4\tdept4\tprocess4\tmachine4\tno4\tmachine42\tdept5\tprocess5\tmachine5\tno5\tmachine52\tdept6\tprocess6\tmachine6\tno6\tmachine62\tdept7\tprocess7\tmachine7\tno7\tmachine72\tdept8\tprocess8\tmachine8\tno8\tmachine82\tdept9\tprocess9\tmachine9\tno9\tmachine92\tdept10\tprocess10\tmachine10\tno10\n",
    "6.22118E+12\tSpacer Tube L=3.568m (880/122)\t-\t\tدهان غمر\tدهان غمر\tفـــرن دهـان أحمر\t\t\tالتغليف \tتغليف\t\t\t\t\t\t\t\t\t\t\t\t\t\t\t\t\t\t\t\t\t\t\t\t\t\t\t\t\t\t\t\t\t\t\t\t\t\t\t\t\t\t\n",
    "\n",
    "\n",
    "\n",
    "\n",
    "\n"
   ]
  }
 ],
 "metadata": {
  "language_info": {
   "name": "python"
  },
  "orig_nbformat": 4
 },
 "nbformat": 4,
 "nbformat_minor": 2
}
