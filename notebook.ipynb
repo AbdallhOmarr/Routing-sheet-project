{
 "cells": [
  {
   "cell_type": "code",
   "execution_count": 1,
   "metadata": {},
   "outputs": [],
   "source": [
    "import pandas as pd"
   ]
  },
  {
   "cell_type": "code",
   "execution_count": 2,
   "metadata": {},
   "outputs": [],
   "source": [
    "op = pd.read_excel(r\"Route.xlsm\",sheet_name=\"operations\")"
   ]
  },
  {
   "cell_type": "code",
   "execution_count": 3,
   "metadata": {},
   "outputs": [],
   "source": [
    "mc = pd.read_excel(r\"Route.xlsm\",sheet_name=\"machines\")"
   ]
  },
  {
   "cell_type": "code",
   "execution_count": 22,
   "metadata": {},
   "outputs": [],
   "source": [
    "lb = pd.read_excel(r\"Route.xlsm\",sheet_name=\"labors\")"
   ]
  },
  {
   "cell_type": "code",
   "execution_count": 25,
   "metadata": {},
   "outputs": [
    {
     "data": {
      "text/html": [
       "<div>\n",
       "<style scoped>\n",
       "    .dataframe tbody tr th:only-of-type {\n",
       "        vertical-align: middle;\n",
       "    }\n",
       "\n",
       "    .dataframe tbody tr th {\n",
       "        vertical-align: top;\n",
       "    }\n",
       "\n",
       "    .dataframe thead th {\n",
       "        text-align: right;\n",
       "    }\n",
       "</style>\n",
       "<table border=\"1\" class=\"dataframe\">\n",
       "  <thead>\n",
       "    <tr style=\"text-align: right;\">\n",
       "      <th></th>\n",
       "      <th>id</th>\n",
       "      <th>code</th>\n",
       "      <th>description</th>\n",
       "      <th>operation id</th>\n",
       "    </tr>\n",
       "  </thead>\n",
       "  <tbody>\n",
       "    <tr>\n",
       "      <th>66</th>\n",
       "      <td>67</td>\n",
       "      <td>LB-GENTC00</td>\n",
       "      <td>عامل معين</td>\n",
       "      <td>87</td>\n",
       "    </tr>\n",
       "  </tbody>\n",
       "</table>\n",
       "</div>"
      ],
      "text/plain": [
       "    id        code description  operation id\n",
       "66  67  LB-GENTC00   عامل معين            87"
      ]
     },
     "execution_count": 25,
     "metadata": {},
     "output_type": "execute_result"
    }
   ],
   "source": [
    "lb[lb[\"operation id\"]==87]"
   ]
  },
  {
   "cell_type": "code",
   "execution_count": 10,
   "metadata": {},
   "outputs": [
    {
     "data": {
      "text/html": [
       "<div>\n",
       "<style scoped>\n",
       "    .dataframe tbody tr th:only-of-type {\n",
       "        vertical-align: middle;\n",
       "    }\n",
       "\n",
       "    .dataframe tbody tr th {\n",
       "        vertical-align: top;\n",
       "    }\n",
       "\n",
       "    .dataframe thead th {\n",
       "        text-align: right;\n",
       "    }\n",
       "</style>\n",
       "<table border=\"1\" class=\"dataframe\">\n",
       "  <thead>\n",
       "    <tr style=\"text-align: right;\">\n",
       "      <th></th>\n",
       "      <th>id</th>\n",
       "      <th>code</th>\n",
       "      <th>description</th>\n",
       "      <th>department</th>\n",
       "      <th>department id</th>\n",
       "    </tr>\n",
       "  </thead>\n",
       "  <tbody>\n",
       "    <tr>\n",
       "      <th>37</th>\n",
       "      <td>2</td>\n",
       "      <td>ASM1</td>\n",
       "      <td>تجميع يدوي</td>\n",
       "      <td>DP-WLD001</td>\n",
       "      <td>6</td>\n",
       "    </tr>\n",
       "  </tbody>\n",
       "</table>\n",
       "</div>"
      ],
      "text/plain": [
       "    id  code description department  department id\n",
       "37   2  ASM1  تجميع يدوي  DP-WLD001              6"
      ]
     },
     "execution_count": 10,
     "metadata": {},
     "output_type": "execute_result"
    }
   ],
   "source": [
    "op[op[\"id\"]==2]\n"
   ]
  },
  {
   "cell_type": "code",
   "execution_count": 11,
   "metadata": {},
   "outputs": [
    {
     "data": {
      "text/html": [
       "<div>\n",
       "<style scoped>\n",
       "    .dataframe tbody tr th:only-of-type {\n",
       "        vertical-align: middle;\n",
       "    }\n",
       "\n",
       "    .dataframe tbody tr th {\n",
       "        vertical-align: top;\n",
       "    }\n",
       "\n",
       "    .dataframe thead th {\n",
       "        text-align: right;\n",
       "    }\n",
       "</style>\n",
       "<table border=\"1\" class=\"dataframe\">\n",
       "  <thead>\n",
       "    <tr style=\"text-align: right;\">\n",
       "      <th></th>\n",
       "      <th>id</th>\n",
       "      <th>code</th>\n",
       "      <th>description</th>\n",
       "      <th>operation id</th>\n",
       "    </tr>\n",
       "  </thead>\n",
       "  <tbody>\n",
       "    <tr>\n",
       "      <th>0</th>\n",
       "      <td>1</td>\n",
       "      <td>MC-ASPI000</td>\n",
       "      <td>Italian Prop.تجميع داخلي</td>\n",
       "      <td>2</td>\n",
       "    </tr>\n",
       "  </tbody>\n",
       "</table>\n",
       "</div>"
      ],
      "text/plain": [
       "   id        code               description  operation id\n",
       "0   1  MC-ASPI000  Italian Prop.تجميع داخلي             2"
      ]
     },
     "execution_count": 11,
     "metadata": {},
     "output_type": "execute_result"
    }
   ],
   "source": [
    "mc[mc[\"operation id\"]==2]"
   ]
  },
  {
   "cell_type": "code",
   "execution_count": 40,
   "metadata": {},
   "outputs": [],
   "source": [
    "df = pd.merge(mc,lb,on=\"operation id\",how=\"outer\")"
   ]
  },
  {
   "cell_type": "code",
   "execution_count": 41,
   "metadata": {},
   "outputs": [],
   "source": [
    "df_merged = pd.merge(df,op,left_on = \"operation id\", right_on = \"id\")"
   ]
  },
  {
   "cell_type": "code",
   "execution_count": 42,
   "metadata": {},
   "outputs": [
    {
     "data": {
      "text/html": [
       "<div>\n",
       "<style scoped>\n",
       "    .dataframe tbody tr th:only-of-type {\n",
       "        vertical-align: middle;\n",
       "    }\n",
       "\n",
       "    .dataframe tbody tr th {\n",
       "        vertical-align: top;\n",
       "    }\n",
       "\n",
       "    .dataframe thead th {\n",
       "        text-align: right;\n",
       "    }\n",
       "</style>\n",
       "<table border=\"1\" class=\"dataframe\">\n",
       "  <thead>\n",
       "    <tr style=\"text-align: right;\">\n",
       "      <th></th>\n",
       "      <th>id_x</th>\n",
       "      <th>code_x</th>\n",
       "      <th>description_x</th>\n",
       "      <th>operation id</th>\n",
       "      <th>id_y</th>\n",
       "      <th>code_y</th>\n",
       "      <th>description_y</th>\n",
       "      <th>id</th>\n",
       "      <th>code</th>\n",
       "      <th>description</th>\n",
       "      <th>department</th>\n",
       "      <th>department id</th>\n",
       "    </tr>\n",
       "  </thead>\n",
       "  <tbody>\n",
       "    <tr>\n",
       "      <th>189</th>\n",
       "      <td>NaN</td>\n",
       "      <td>NaN</td>\n",
       "      <td>NaN</td>\n",
       "      <td>87</td>\n",
       "      <td>67</td>\n",
       "      <td>LB-GENTC00</td>\n",
       "      <td>عامل معين</td>\n",
       "      <td>87</td>\n",
       "      <td>PACK</td>\n",
       "      <td>تغليف</td>\n",
       "      <td>DP-PACKING</td>\n",
       "      <td>28</td>\n",
       "    </tr>\n",
       "  </tbody>\n",
       "</table>\n",
       "</div>"
      ],
      "text/plain": [
       "     id_x code_x description_x  operation id  id_y      code_y description_y  \\\n",
       "189   NaN    NaN           NaN            87    67  LB-GENTC00     عامل معين   \n",
       "\n",
       "     id  code description  department  department id  \n",
       "189  87  PACK       تغليف  DP-PACKING             28  "
      ]
     },
     "execution_count": 42,
     "metadata": {},
     "output_type": "execute_result"
    }
   ],
   "source": [
    "df_merged[df_merged[\"operation id\"]==87]"
   ]
  },
  {
   "cell_type": "code",
   "execution_count": 45,
   "metadata": {},
   "outputs": [],
   "source": [
    "df_merged.to_excel(\"opmc.xlsx\")"
   ]
  },
  {
   "cell_type": "code",
   "execution_count": 47,
   "metadata": {},
   "outputs": [],
   "source": [
    "df1 = df_merged[:10]"
   ]
  },
  {
   "cell_type": "code",
   "execution_count": 48,
   "metadata": {},
   "outputs": [],
   "source": [
    "df2 = df_merged[10:20]"
   ]
  },
  {
   "cell_type": "code",
   "execution_count": 49,
   "metadata": {},
   "outputs": [
    {
     "data": {
      "text/plain": [
       "(10, 12)"
      ]
     },
     "execution_count": 49,
     "metadata": {},
     "output_type": "execute_result"
    }
   ],
   "source": [
    "df1.shape"
   ]
  },
  {
   "cell_type": "code",
   "execution_count": 50,
   "metadata": {},
   "outputs": [
    {
     "data": {
      "text/plain": [
       "(10, 12)"
      ]
     },
     "execution_count": 50,
     "metadata": {},
     "output_type": "execute_result"
    }
   ],
   "source": [
    "df2.shape\n"
   ]
  },
  {
   "cell_type": "code",
   "execution_count": 51,
   "metadata": {},
   "outputs": [],
   "source": [
    "dff = df1.append(df2)"
   ]
  },
  {
   "cell_type": "code",
   "execution_count": 52,
   "metadata": {},
   "outputs": [
    {
     "data": {
      "text/plain": [
       "(20, 12)"
      ]
     },
     "execution_count": 52,
     "metadata": {},
     "output_type": "execute_result"
    }
   ],
   "source": [
    "dff.shape"
   ]
  },
  {
   "cell_type": "code",
   "execution_count": 30,
   "metadata": {},
   "outputs": [],
   "source": [
    "import pandas as pd "
   ]
  },
  {
   "cell_type": "code",
   "execution_count": 31,
   "metadata": {},
   "outputs": [
    {
     "name": "stderr",
     "output_type": "stream",
     "text": [
      "c:\\Users\\abdallah.ashry\\Anaconda3\\lib\\site-packages\\openpyxl\\worksheet\\_reader.py:312: UserWarning: Data Validation extension is not supported and will be removed\n",
      "  warn(msg)\n"
     ]
    }
   ],
   "source": [
    "df1 = pd.read_excel(\"Route.xlsm\",sheet_name=\"Item1\",header=2)"
   ]
  },
  {
   "cell_type": "code",
   "execution_count": 32,
   "metadata": {},
   "outputs": [
    {
     "data": {
      "text/html": [
       "<div>\n",
       "<style scoped>\n",
       "    .dataframe tbody tr th:only-of-type {\n",
       "        vertical-align: middle;\n",
       "    }\n",
       "\n",
       "    .dataframe tbody tr th {\n",
       "        vertical-align: top;\n",
       "    }\n",
       "\n",
       "    .dataframe thead th {\n",
       "        text-align: right;\n",
       "    }\n",
       "</style>\n",
       "<table border=\"1\" class=\"dataframe\">\n",
       "  <thead>\n",
       "    <tr style=\"text-align: right;\">\n",
       "      <th></th>\n",
       "      <th>item code</th>\n",
       "      <th>item description</th>\n",
       "      <th>material description</th>\n",
       "      <th>std route</th>\n",
       "      <th>copy route</th>\n",
       "      <th>Column2</th>\n",
       "      <th>dept1</th>\n",
       "      <th>process1</th>\n",
       "      <th>machine1</th>\n",
       "      <th>no1</th>\n",
       "      <th>...</th>\n",
       "      <th>machine82</th>\n",
       "      <th>dept9</th>\n",
       "      <th>process9</th>\n",
       "      <th>machine9</th>\n",
       "      <th>no9</th>\n",
       "      <th>machine92</th>\n",
       "      <th>dept10</th>\n",
       "      <th>process10</th>\n",
       "      <th>machine10</th>\n",
       "      <th>no10</th>\n",
       "    </tr>\n",
       "  </thead>\n",
       "  <tbody>\n",
       "    <tr>\n",
       "      <th>0</th>\n",
       "      <td>6221177320898</td>\n",
       "      <td>Spacer Tube L=3.568m (880/122)</td>\n",
       "      <td>-</td>\n",
       "      <td>NaN</td>\n",
       "      <td>NaN</td>\n",
       "      <td>NaN</td>\n",
       "      <td>دهان غمر</td>\n",
       "      <td>دهان غمر</td>\n",
       "      <td>فـــرن دهـان أحمر</td>\n",
       "      <td>1.0</td>\n",
       "      <td>...</td>\n",
       "      <td>NaN</td>\n",
       "      <td>NaN</td>\n",
       "      <td>NaN</td>\n",
       "      <td>NaN</td>\n",
       "      <td>NaN</td>\n",
       "      <td>NaN</td>\n",
       "      <td>NaN</td>\n",
       "      <td>NaN</td>\n",
       "      <td>NaN</td>\n",
       "      <td>NaN</td>\n",
       "    </tr>\n",
       "    <tr>\n",
       "      <th>1</th>\n",
       "      <td>4221177315555</td>\n",
       "      <td>Spacer Tube L=3566 mm</td>\n",
       "      <td>مواسير مستديرة 1 × 2.5 مم × 5.75 م</td>\n",
       "      <td>1.0</td>\n",
       "      <td>NaN</td>\n",
       "      <td>NaN</td>\n",
       "      <td>NaN</td>\n",
       "      <td>NaN</td>\n",
       "      <td>NaN</td>\n",
       "      <td>NaN</td>\n",
       "      <td>...</td>\n",
       "      <td>NaN</td>\n",
       "      <td>NaN</td>\n",
       "      <td>NaN</td>\n",
       "      <td>NaN</td>\n",
       "      <td>NaN</td>\n",
       "      <td>NaN</td>\n",
       "      <td>NaN</td>\n",
       "      <td>NaN</td>\n",
       "      <td>NaN</td>\n",
       "      <td>NaN</td>\n",
       "    </tr>\n",
       "    <tr>\n",
       "      <th>2</th>\n",
       "      <td>2005030065751</td>\n",
       "      <td>مواسير مستديرة 1 × 2.5 مم × 5.75 م</td>\n",
       "      <td>NaN</td>\n",
       "      <td>NaN</td>\n",
       "      <td>NaN</td>\n",
       "      <td>NaN</td>\n",
       "      <td>NaN</td>\n",
       "      <td>NaN</td>\n",
       "      <td>NaN</td>\n",
       "      <td>NaN</td>\n",
       "      <td>...</td>\n",
       "      <td>NaN</td>\n",
       "      <td>NaN</td>\n",
       "      <td>NaN</td>\n",
       "      <td>NaN</td>\n",
       "      <td>NaN</td>\n",
       "      <td>NaN</td>\n",
       "      <td>NaN</td>\n",
       "      <td>NaN</td>\n",
       "      <td>NaN</td>\n",
       "      <td>NaN</td>\n",
       "    </tr>\n",
       "    <tr>\n",
       "      <th>3</th>\n",
       "      <td>2002040067591</td>\n",
       "      <td>شرائح صاج اسود 102 مم سمك 2.5 مم صلب 37</td>\n",
       "      <td>NaN</td>\n",
       "      <td>NaN</td>\n",
       "      <td>NaN</td>\n",
       "      <td>NaN</td>\n",
       "      <td>NaN</td>\n",
       "      <td>NaN</td>\n",
       "      <td>NaN</td>\n",
       "      <td>NaN</td>\n",
       "      <td>...</td>\n",
       "      <td>NaN</td>\n",
       "      <td>NaN</td>\n",
       "      <td>NaN</td>\n",
       "      <td>NaN</td>\n",
       "      <td>NaN</td>\n",
       "      <td>NaN</td>\n",
       "      <td>NaN</td>\n",
       "      <td>NaN</td>\n",
       "      <td>NaN</td>\n",
       "      <td>NaN</td>\n",
       "    </tr>\n",
       "    <tr>\n",
       "      <th>4</th>\n",
       "      <td>2002060003272</td>\n",
       "      <td>صاج لفف ساخن 2.5 مم × 1.500 م صلب 37</td>\n",
       "      <td>NaN</td>\n",
       "      <td>NaN</td>\n",
       "      <td>NaN</td>\n",
       "      <td>NaN</td>\n",
       "      <td>NaN</td>\n",
       "      <td>NaN</td>\n",
       "      <td>NaN</td>\n",
       "      <td>NaN</td>\n",
       "      <td>...</td>\n",
       "      <td>NaN</td>\n",
       "      <td>NaN</td>\n",
       "      <td>NaN</td>\n",
       "      <td>NaN</td>\n",
       "      <td>NaN</td>\n",
       "      <td>NaN</td>\n",
       "      <td>NaN</td>\n",
       "      <td>NaN</td>\n",
       "      <td>NaN</td>\n",
       "      <td>NaN</td>\n",
       "    </tr>\n",
       "  </tbody>\n",
       "</table>\n",
       "<p>5 rows × 55 columns</p>\n",
       "</div>"
      ],
      "text/plain": [
       "       item code                         item description  \\\n",
       "0  6221177320898           Spacer Tube L=3.568m (880/122)   \n",
       "1  4221177315555                    Spacer Tube L=3566 mm   \n",
       "2  2005030065751       مواسير مستديرة 1 × 2.5 مم × 5.75 م   \n",
       "3  2002040067591  شرائح صاج اسود 102 مم سمك 2.5 مم صلب 37   \n",
       "4  2002060003272     صاج لفف ساخن 2.5 مم × 1.500 م صلب 37   \n",
       "\n",
       "                 material description  std route  copy route  Column2  \\\n",
       "0                                   -        NaN         NaN      NaN   \n",
       "1  مواسير مستديرة 1 × 2.5 مم × 5.75 م        1.0         NaN      NaN   \n",
       "2                                 NaN        NaN         NaN      NaN   \n",
       "3                                 NaN        NaN         NaN      NaN   \n",
       "4                                 NaN        NaN         NaN      NaN   \n",
       "\n",
       "      dept1  process1           machine1  no1  ...  machine82 dept9 process9  \\\n",
       "0  دهان غمر  دهان غمر  فـــرن دهـان أحمر  1.0  ...        NaN   NaN      NaN   \n",
       "1       NaN       NaN                NaN  NaN  ...        NaN   NaN      NaN   \n",
       "2       NaN       NaN                NaN  NaN  ...        NaN   NaN      NaN   \n",
       "3       NaN       NaN                NaN  NaN  ...        NaN   NaN      NaN   \n",
       "4       NaN       NaN                NaN  NaN  ...        NaN   NaN      NaN   \n",
       "\n",
       "   machine9  no9  machine92  dept10  process10  machine10  no10  \n",
       "0       NaN  NaN        NaN     NaN        NaN        NaN   NaN  \n",
       "1       NaN  NaN        NaN     NaN        NaN        NaN   NaN  \n",
       "2       NaN  NaN        NaN     NaN        NaN        NaN   NaN  \n",
       "3       NaN  NaN        NaN     NaN        NaN        NaN   NaN  \n",
       "4       NaN  NaN        NaN     NaN        NaN        NaN   NaN  \n",
       "\n",
       "[5 rows x 55 columns]"
      ]
     },
     "execution_count": 32,
     "metadata": {},
     "output_type": "execute_result"
    }
   ],
   "source": [
    "df1.head()"
   ]
  },
  {
   "cell_type": "code",
   "execution_count": 33,
   "metadata": {},
   "outputs": [
    {
     "name": "stderr",
     "output_type": "stream",
     "text": [
      "c:\\Users\\abdallah.ashry\\Anaconda3\\lib\\site-packages\\openpyxl\\worksheet\\_reader.py:312: UserWarning: Data Validation extension is not supported and will be removed\n",
      "  warn(msg)\n"
     ]
    }
   ],
   "source": [
    "df2 = pd.read_excel(\"Route.xlsm\",sheet_name=\"std routing\")"
   ]
  },
  {
   "cell_type": "code",
   "execution_count": 34,
   "metadata": {},
   "outputs": [
    {
     "data": {
      "text/html": [
       "<div>\n",
       "<style scoped>\n",
       "    .dataframe tbody tr th:only-of-type {\n",
       "        vertical-align: middle;\n",
       "    }\n",
       "\n",
       "    .dataframe tbody tr th {\n",
       "        vertical-align: top;\n",
       "    }\n",
       "\n",
       "    .dataframe thead th {\n",
       "        text-align: right;\n",
       "    }\n",
       "</style>\n",
       "<table border=\"1\" class=\"dataframe\">\n",
       "  <thead>\n",
       "    <tr style=\"text-align: right;\">\n",
       "      <th></th>\n",
       "      <th>std route</th>\n",
       "      <th>Column2</th>\n",
       "      <th>dept1</th>\n",
       "      <th>process1</th>\n",
       "      <th>machine1</th>\n",
       "      <th>no1</th>\n",
       "      <th>Column1</th>\n",
       "      <th>dept2</th>\n",
       "      <th>process2</th>\n",
       "      <th>machine2</th>\n",
       "      <th>...</th>\n",
       "      <th>machine82</th>\n",
       "      <th>dept9</th>\n",
       "      <th>process9</th>\n",
       "      <th>machine9</th>\n",
       "      <th>no9</th>\n",
       "      <th>machine92</th>\n",
       "      <th>dept10</th>\n",
       "      <th>process10</th>\n",
       "      <th>machine10</th>\n",
       "      <th>no10</th>\n",
       "    </tr>\n",
       "  </thead>\n",
       "  <tbody>\n",
       "    <tr>\n",
       "      <th>0</th>\n",
       "      <td>1</td>\n",
       "      <td>NaN</td>\n",
       "      <td>دهان غمر</td>\n",
       "      <td>دهان غمر</td>\n",
       "      <td>فـــرن دهـان أحمر</td>\n",
       "      <td>1</td>\n",
       "      <td>NaN</td>\n",
       "      <td>التغليف</td>\n",
       "      <td>تغليف</td>\n",
       "      <td>NaN</td>\n",
       "      <td>...</td>\n",
       "      <td>NaN</td>\n",
       "      <td>NaN</td>\n",
       "      <td>NaN</td>\n",
       "      <td>NaN</td>\n",
       "      <td>NaN</td>\n",
       "      <td>NaN</td>\n",
       "      <td>NaN</td>\n",
       "      <td>NaN</td>\n",
       "      <td>NaN</td>\n",
       "      <td>NaN</td>\n",
       "    </tr>\n",
       "  </tbody>\n",
       "</table>\n",
       "<p>1 rows × 51 columns</p>\n",
       "</div>"
      ],
      "text/plain": [
       "   std route  Column2     dept1  process1           machine1  no1  Column1  \\\n",
       "0          1      NaN  دهان غمر  دهان غمر  فـــرن دهـان أحمر    1      NaN   \n",
       "\n",
       "      dept2 process2  machine2  ...  machine82  dept9  process9  machine9  \\\n",
       "0  التغليف     تغليف       NaN  ...        NaN    NaN       NaN       NaN   \n",
       "\n",
       "   no9  machine92  dept10  process10  machine10  no10  \n",
       "0  NaN        NaN     NaN        NaN        NaN   NaN  \n",
       "\n",
       "[1 rows x 51 columns]"
      ]
     },
     "execution_count": 34,
     "metadata": {},
     "output_type": "execute_result"
    }
   ],
   "source": [
    "df2.head()"
   ]
  },
  {
   "cell_type": "code",
   "execution_count": 39,
   "metadata": {},
   "outputs": [],
   "source": [
    "# merge \n",
    "process = pd.merge(df1,df2, on=\"std route\",how= \"right\",suffixes=('x', ''))"
   ]
  },
  {
   "cell_type": "code",
   "execution_count": 40,
   "metadata": {},
   "outputs": [
    {
     "data": {
      "text/html": [
       "<div>\n",
       "<style scoped>\n",
       "    .dataframe tbody tr th:only-of-type {\n",
       "        vertical-align: middle;\n",
       "    }\n",
       "\n",
       "    .dataframe tbody tr th {\n",
       "        vertical-align: top;\n",
       "    }\n",
       "\n",
       "    .dataframe thead th {\n",
       "        text-align: right;\n",
       "    }\n",
       "</style>\n",
       "<table border=\"1\" class=\"dataframe\">\n",
       "  <thead>\n",
       "    <tr style=\"text-align: right;\">\n",
       "      <th></th>\n",
       "      <th>item code</th>\n",
       "      <th>item description</th>\n",
       "      <th>material description</th>\n",
       "      <th>std route</th>\n",
       "      <th>dept1</th>\n",
       "      <th>process1</th>\n",
       "      <th>machine1</th>\n",
       "      <th>no1</th>\n",
       "      <th>dept2</th>\n",
       "      <th>process2</th>\n",
       "      <th>no2</th>\n",
       "    </tr>\n",
       "  </thead>\n",
       "  <tbody>\n",
       "    <tr>\n",
       "      <th>0</th>\n",
       "      <td>4221177315555</td>\n",
       "      <td>Spacer Tube L=3566 mm</td>\n",
       "      <td>مواسير مستديرة 1 × 2.5 مم × 5.75 م</td>\n",
       "      <td>1.0</td>\n",
       "      <td>دهان غمر</td>\n",
       "      <td>دهان غمر</td>\n",
       "      <td>فـــرن دهـان أحمر</td>\n",
       "      <td>1</td>\n",
       "      <td>التغليف</td>\n",
       "      <td>تغليف</td>\n",
       "      <td>1</td>\n",
       "    </tr>\n",
       "  </tbody>\n",
       "</table>\n",
       "</div>"
      ],
      "text/plain": [
       "       item code       item description                material description  \\\n",
       "0  4221177315555  Spacer Tube L=3566 mm  مواسير مستديرة 1 × 2.5 مم × 5.75 م   \n",
       "\n",
       "   std route     dept1  process1           machine1  no1     dept2 process2  \\\n",
       "0        1.0  دهان غمر  دهان غمر  فـــرن دهـان أحمر    1  التغليف     تغليف   \n",
       "\n",
       "   no2  \n",
       "0    1  "
      ]
     },
     "execution_count": 40,
     "metadata": {},
     "output_type": "execute_result"
    }
   ],
   "source": [
    "process.dropna(axis=1)"
   ]
  },
  {
   "cell_type": "markdown",
   "metadata": {},
   "source": []
  },
  {
   "cell_type": "code",
   "execution_count": 1,
   "metadata": {},
   "outputs": [],
   "source": [
    "pth =\"mails.txt\""
   ]
  },
  {
   "cell_type": "code",
   "execution_count": 18,
   "metadata": {},
   "outputs": [
    {
     "name": "stdout",
     "output_type": "stream",
     "text": [
      "mohamed.gaafer@acrow.co\n",
      "\n",
      "Mahmoud.Shaban@Acrow.co\n",
      "\n",
      "Abdallah.Ashry@Acrow.co\n",
      "\n",
      "fatma.ahmed@Acrow.co\n",
      "\n",
      "Hossam.Ahmed@Acrow.co\n",
      "\n",
      "mostafa.dahy@Acrow.co\n",
      "\n",
      "abdelrahman.amer@Acrow.co\n",
      "\n",
      "ahmed.abdalkareem@acrow.co\n",
      "\n",
      "Ahmed.Ashraf@Acrow.co\n",
      "\n",
      "ahmed.shabana@Acrow.co\n",
      "\n",
      "ashraf.abdelsatar@Acrow.co\n",
      "\n",
      "hussien.elsakary@Acrow.co\n",
      "\n",
      "ibrahim.elsayed@Acrow.co\n",
      "\n",
      "mahmoud.abdelrasoul@Acrow.co\n",
      "\n",
      "mahmoud.naser@Acrow.co\n",
      "\n",
      "Mohamed.Elhussainy@acrow.co\n",
      "\n",
      "mostafa.dahy@Acrow.co\n",
      "\n",
      "mostafa.sabry@acrow.co\n",
      "\n",
      "ramadan.selim@Acrow.co\n",
      "\n",
      "shady.bakr@Acrow.co\n",
      "\n",
      "somaya.abdelkader@Acrow.co\n",
      "\n",
      "Yahia.Hamdy@Acrow.co\n"
     ]
    }
   ],
   "source": [
    "  mails_to = []\n",
    "  mails_cc = []\n",
    "  with open(\"mails.txt\",\"r\") as file:\n",
    "      for line in file.readlines():\n",
    "          if line.strip().lower() == \"to\":\n",
    "              to_lst = True\n",
    "          if line.strip().lower() == \"cc\":\n",
    "              to_lst = False\n",
    "\n",
    "          if line.strip().lower().endswith(\"@acrow.co\"):\n",
    "              print(line)\n",
    "              if to_lst:\n",
    "                  mails_to.append(line.strip().lower())\n",
    "              else:\n",
    "                  mails_cc.append(line.strip().lower())\n",
    "\n",
    "  mail_to_str = \"\"\n",
    "  for x in mails_to:\n",
    "      mail_to_str += x + \";\"\n",
    "  mail_cc_str = \"\"\n",
    "  for y in mails_cc:\n",
    "      mail_cc_str += y + \";\""
   ]
  },
  {
   "cell_type": "code",
   "execution_count": 14,
   "metadata": {},
   "outputs": [
    {
     "data": {
      "text/plain": [
       "['mohamed.gaafer@acrow.co', 'mahmoud.shaban@acrow.co']"
      ]
     },
     "execution_count": 14,
     "metadata": {},
     "output_type": "execute_result"
    }
   ],
   "source": [
    "mails_to"
   ]
  },
  {
   "cell_type": "code",
   "execution_count": 15,
   "metadata": {},
   "outputs": [
    {
     "data": {
      "text/plain": [
       "['abdallah.ashry@acrow.co',\n",
       " 'fatma.ahmed@acrow.co',\n",
       " 'hossam.ahmed@acrow.co',\n",
       " 'mostafa.dahy@acrow.co',\n",
       " 'abdelrahman.amer@acrow.co',\n",
       " 'ahmed.abdalkareem@acrow.co',\n",
       " 'ahmed.ashraf@acrow.co',\n",
       " 'ahmed.shabana@acrow.co',\n",
       " 'ashraf.abdelsatar@acrow.co',\n",
       " 'hussien.elsakary@acrow.co',\n",
       " 'ibrahim.elsayed@acrow.co',\n",
       " 'mahmoud.abdelrasoul@acrow.co',\n",
       " 'mahmoud.naser@acrow.co',\n",
       " 'mohamed.elhussainy@acrow.co',\n",
       " 'mostafa.dahy@acrow.co',\n",
       " 'mostafa.sabry@acrow.co',\n",
       " 'ramadan.selim@acrow.co',\n",
       " 'shady.bakr@acrow.co',\n",
       " 'somaya.abdelkader@acrow.co',\n",
       " 'yahia.hamdy@acrow.co']"
      ]
     },
     "execution_count": 15,
     "metadata": {},
     "output_type": "execute_result"
    }
   ],
   "source": [
    "mails_cc"
   ]
  },
  {
   "cell_type": "code",
   "execution_count": null,
   "metadata": {},
   "outputs": [],
   "source": []
  }
 ],
 "metadata": {
  "kernelspec": {
   "display_name": "base",
   "language": "python",
   "name": "python3"
  },
  "language_info": {
   "codemirror_mode": {
    "name": "ipython",
    "version": 3
   },
   "file_extension": ".py",
   "mimetype": "text/x-python",
   "name": "python",
   "nbconvert_exporter": "python",
   "pygments_lexer": "ipython3",
   "version": "3.8.8"
  },
  "orig_nbformat": 4,
  "vscode": {
   "interpreter": {
    "hash": "d7288e82646d3164eca24130947288f8779d11454649f2c02a5dfc42af7f324c"
   }
  }
 },
 "nbformat": 4,
 "nbformat_minor": 2
}
