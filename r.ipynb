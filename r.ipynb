{
 "cells": [
  {
   "cell_type": "code",
   "execution_count": 1,
   "metadata": {},
   "outputs": [],
   "source": [
    "import pandas as pd\n"
   ]
  },
  {
   "cell_type": "code",
   "execution_count": 2,
   "metadata": {},
   "outputs": [],
   "source": [
    "pth = r\"C:\\Users\\abdallah.ashry\\source\\repos\\Routing sheet project\\data\\pre data\\Copy of routing.xlsx\""
   ]
  },
  {
   "cell_type": "code",
   "execution_count": 34,
   "metadata": {},
   "outputs": [],
   "source": [
    "df = pd.read_excel(pth,sheet_name=\"Sheet1\")\n"
   ]
  },
  {
   "cell_type": "code",
   "execution_count": 41,
   "metadata": {},
   "outputs": [
    {
     "data": {
      "text/html": [
       "<div>\n",
       "<style scoped>\n",
       "    .dataframe tbody tr th:only-of-type {\n",
       "        vertical-align: middle;\n",
       "    }\n",
       "\n",
       "    .dataframe tbody tr th {\n",
       "        vertical-align: top;\n",
       "    }\n",
       "\n",
       "    .dataframe thead th {\n",
       "        text-align: right;\n",
       "    }\n",
       "</style>\n",
       "<table border=\"1\" class=\"dataframe\">\n",
       "  <thead>\n",
       "    <tr style=\"text-align: right;\">\n",
       "      <th></th>\n",
       "      <th>operation</th>\n",
       "      <th>department</th>\n",
       "      <th>resource</th>\n",
       "    </tr>\n",
       "  </thead>\n",
       "  <tbody>\n",
       "    <tr>\n",
       "      <th>0</th>\n",
       "      <td>CTW</td>\n",
       "      <td>DP-ASM004</td>\n",
       "      <td>LB-GENTC00</td>\n",
       "    </tr>\n",
       "    <tr>\n",
       "      <th>1</th>\n",
       "      <td>PCUT</td>\n",
       "      <td>DP-SLT000</td>\n",
       "      <td>LB-GENTC00</td>\n",
       "    </tr>\n",
       "    <tr>\n",
       "      <th>2</th>\n",
       "      <td>SAW7</td>\n",
       "      <td>DP-THR000</td>\n",
       "      <td>LB-GENTC00</td>\n",
       "    </tr>\n",
       "    <tr>\n",
       "      <th>3</th>\n",
       "      <td>DRL7</td>\n",
       "      <td>DP-THR000</td>\n",
       "      <td>LB-GENTC00</td>\n",
       "    </tr>\n",
       "    <tr>\n",
       "      <th>4</th>\n",
       "      <td>THR7</td>\n",
       "      <td>DP-THR000</td>\n",
       "      <td>LB-GENTC00</td>\n",
       "    </tr>\n",
       "  </tbody>\n",
       "</table>\n",
       "</div>"
      ],
      "text/plain": [
       "  operation department    resource\n",
       "0       CTW  DP-ASM004  LB-GENTC00\n",
       "1      PCUT  DP-SLT000  LB-GENTC00\n",
       "2      SAW7  DP-THR000  LB-GENTC00\n",
       "3      DRL7  DP-THR000  LB-GENTC00\n",
       "4      THR7  DP-THR000  LB-GENTC00"
      ]
     },
     "execution_count": 41,
     "metadata": {},
     "output_type": "execute_result"
    }
   ],
   "source": [
    "df.head()"
   ]
  },
  {
   "cell_type": "code",
   "execution_count": 11,
   "metadata": {},
   "outputs": [],
   "source": [
    "operation_sheet = pd.read_excel(\"data\\operations.xlsx\")"
   ]
  },
  {
   "cell_type": "code",
   "execution_count": 40,
   "metadata": {},
   "outputs": [
    {
     "data": {
      "text/html": [
       "<div>\n",
       "<style scoped>\n",
       "    .dataframe tbody tr th:only-of-type {\n",
       "        vertical-align: middle;\n",
       "    }\n",
       "\n",
       "    .dataframe tbody tr th {\n",
       "        vertical-align: top;\n",
       "    }\n",
       "\n",
       "    .dataframe thead th {\n",
       "        text-align: right;\n",
       "    }\n",
       "</style>\n",
       "<table border=\"1\" class=\"dataframe\">\n",
       "  <thead>\n",
       "    <tr style=\"text-align: right;\">\n",
       "      <th></th>\n",
       "      <th>id</th>\n",
       "      <th>code</th>\n",
       "      <th>description</th>\n",
       "      <th>department</th>\n",
       "      <th>department id</th>\n",
       "    </tr>\n",
       "  </thead>\n",
       "  <tbody>\n",
       "    <tr>\n",
       "      <th>0</th>\n",
       "      <td>1</td>\n",
       "      <td>ASM</td>\n",
       "      <td>تجميع يدوي</td>\n",
       "      <td>DP-PACKING</td>\n",
       "      <td>28</td>\n",
       "    </tr>\n",
       "    <tr>\n",
       "      <th>1</th>\n",
       "      <td>2</td>\n",
       "      <td>ASM1</td>\n",
       "      <td>تجميع يدوي</td>\n",
       "      <td>DP-WLD001</td>\n",
       "      <td>6</td>\n",
       "    </tr>\n",
       "    <tr>\n",
       "      <th>2</th>\n",
       "      <td>3</td>\n",
       "      <td>ASM5</td>\n",
       "      <td>تدكيك</td>\n",
       "      <td>DP-AR1005</td>\n",
       "      <td>15</td>\n",
       "    </tr>\n",
       "    <tr>\n",
       "      <th>3</th>\n",
       "      <td>4</td>\n",
       "      <td>ASM7</td>\n",
       "      <td>تجميع يدوي</td>\n",
       "      <td>DP-THR000</td>\n",
       "      <td>17</td>\n",
       "    </tr>\n",
       "    <tr>\n",
       "      <th>4</th>\n",
       "      <td>5</td>\n",
       "      <td>ASMI</td>\n",
       "      <td>تجميع يدوي بالاجزاء</td>\n",
       "      <td>DP-INTPTS</td>\n",
       "      <td>3</td>\n",
       "    </tr>\n",
       "  </tbody>\n",
       "</table>\n",
       "</div>"
      ],
      "text/plain": [
       "   id  code          description  department  department id\n",
       "0   1   ASM           تجميع يدوي  DP-PACKING             28\n",
       "1   2  ASM1           تجميع يدوي   DP-WLD001              6\n",
       "2   3  ASM5                تدكيك   DP-AR1005             15\n",
       "3   4  ASM7           تجميع يدوي   DP-THR000             17\n",
       "4   5  ASMI  تجميع يدوي بالاجزاء   DP-INTPTS              3"
      ]
     },
     "execution_count": 40,
     "metadata": {},
     "output_type": "execute_result"
    }
   ],
   "source": [
    "operation_sheet.head()"
   ]
  },
  {
   "cell_type": "code",
   "execution_count": 25,
   "metadata": {},
   "outputs": [
    {
     "data": {
      "text/html": [
       "<div>\n",
       "<style scoped>\n",
       "    .dataframe tbody tr th:only-of-type {\n",
       "        vertical-align: middle;\n",
       "    }\n",
       "\n",
       "    .dataframe tbody tr th {\n",
       "        vertical-align: top;\n",
       "    }\n",
       "\n",
       "    .dataframe thead th {\n",
       "        text-align: right;\n",
       "    }\n",
       "</style>\n",
       "<table border=\"1\" class=\"dataframe\">\n",
       "  <thead>\n",
       "    <tr style=\"text-align: right;\">\n",
       "      <th></th>\n",
       "      <th>id</th>\n",
       "      <th>code</th>\n",
       "      <th>description</th>\n",
       "      <th>department</th>\n",
       "      <th>department id</th>\n",
       "    </tr>\n",
       "  </thead>\n",
       "  <tbody>\n",
       "    <tr>\n",
       "      <th>0</th>\n",
       "      <td>1</td>\n",
       "      <td>ASM</td>\n",
       "      <td>تجميع يدوي</td>\n",
       "      <td>DP-PACKING</td>\n",
       "      <td>28</td>\n",
       "    </tr>\n",
       "    <tr>\n",
       "      <th>1</th>\n",
       "      <td>2</td>\n",
       "      <td>ASM1</td>\n",
       "      <td>تجميع يدوي</td>\n",
       "      <td>DP-WLD001</td>\n",
       "      <td>6</td>\n",
       "    </tr>\n",
       "    <tr>\n",
       "      <th>2</th>\n",
       "      <td>3</td>\n",
       "      <td>ASM5</td>\n",
       "      <td>تدكيك</td>\n",
       "      <td>DP-AR1005</td>\n",
       "      <td>15</td>\n",
       "    </tr>\n",
       "    <tr>\n",
       "      <th>3</th>\n",
       "      <td>4</td>\n",
       "      <td>ASM7</td>\n",
       "      <td>تجميع يدوي</td>\n",
       "      <td>DP-THR000</td>\n",
       "      <td>17</td>\n",
       "    </tr>\n",
       "    <tr>\n",
       "      <th>4</th>\n",
       "      <td>5</td>\n",
       "      <td>ASMI</td>\n",
       "      <td>تجميع يدوي بالاجزاء</td>\n",
       "      <td>DP-INTPTS</td>\n",
       "      <td>3</td>\n",
       "    </tr>\n",
       "    <tr>\n",
       "      <th>...</th>\n",
       "      <td>...</td>\n",
       "      <td>...</td>\n",
       "      <td>...</td>\n",
       "      <td>...</td>\n",
       "      <td>...</td>\n",
       "    </tr>\n",
       "    <tr>\n",
       "      <th>135</th>\n",
       "      <td>136</td>\n",
       "      <td>WLA2</td>\n",
       "      <td>لحام اوتوماتيك</td>\n",
       "      <td>DP-PRP002</td>\n",
       "      <td>7</td>\n",
       "    </tr>\n",
       "    <tr>\n",
       "      <th>136</th>\n",
       "      <td>137</td>\n",
       "      <td>WLA5</td>\n",
       "      <td>لحام اوتوماتيك</td>\n",
       "      <td>DP-AR1005</td>\n",
       "      <td>15</td>\n",
       "    </tr>\n",
       "    <tr>\n",
       "      <th>137</th>\n",
       "      <td>138</td>\n",
       "      <td>WLA6</td>\n",
       "      <td>لحام أوتوماتيك</td>\n",
       "      <td>DP-AR2005</td>\n",
       "      <td>16</td>\n",
       "    </tr>\n",
       "    <tr>\n",
       "      <th>138</th>\n",
       "      <td>139</td>\n",
       "      <td>WLA7</td>\n",
       "      <td>لحام اتوماتيك</td>\n",
       "      <td>DP-THR000</td>\n",
       "      <td>17</td>\n",
       "    </tr>\n",
       "    <tr>\n",
       "      <th>139</th>\n",
       "      <td>140</td>\n",
       "      <td>WLD1</td>\n",
       "      <td>لحام يدوي</td>\n",
       "      <td>DP-WLD001</td>\n",
       "      <td>6</td>\n",
       "    </tr>\n",
       "  </tbody>\n",
       "</table>\n",
       "<p>140 rows × 5 columns</p>\n",
       "</div>"
      ],
      "text/plain": [
       "      id  code          description  department  department id\n",
       "0      1   ASM           تجميع يدوي  DP-PACKING             28\n",
       "1      2  ASM1           تجميع يدوي   DP-WLD001              6\n",
       "2      3  ASM5                تدكيك   DP-AR1005             15\n",
       "3      4  ASM7           تجميع يدوي   DP-THR000             17\n",
       "4      5  ASMI  تجميع يدوي بالاجزاء   DP-INTPTS              3\n",
       "..   ...   ...                  ...         ...            ...\n",
       "135  136  WLA2       لحام اوتوماتيك   DP-PRP002              7\n",
       "136  137  WLA5       لحام اوتوماتيك   DP-AR1005             15\n",
       "137  138  WLA6       لحام أوتوماتيك   DP-AR2005             16\n",
       "138  139  WLA7        لحام اتوماتيك   DP-THR000             17\n",
       "139  140  WLD1            لحام يدوي   DP-WLD001              6\n",
       "\n",
       "[140 rows x 5 columns]"
      ]
     },
     "execution_count": 25,
     "metadata": {},
     "output_type": "execute_result"
    }
   ],
   "source": []
  },
  {
   "cell_type": "code",
   "execution_count": 42,
   "metadata": {},
   "outputs": [
    {
     "data": {
      "text/plain": [
       "2"
      ]
     },
     "execution_count": 42,
     "metadata": {},
     "output_type": "execute_result"
    }
   ],
   "source": [
    "operation_sheet[operation_sheet[\"code\"]==\"ASM1\"][\"id\"].to_list()[0]"
   ]
  },
  {
   "cell_type": "code",
   "execution_count": 43,
   "metadata": {},
   "outputs": [
    {
     "name": "stdout",
     "output_type": "stream",
     "text": [
      "LB-GENTC00\n",
      "LB-GENTC00\n",
      "LB-GENTC00\n",
      "LB-GENTC00\n",
      "LB-GENTC00\n",
      "LB-GENTC00\n",
      "LB-GENTC00\n",
      "LB-GENTC00\n",
      "LB-GENTC00\n",
      "LB-GENTC00\n",
      "LB-GENTC00\n",
      "LB-GENTC00\n",
      "LB-GENTC00\n",
      "LB-GENTC00\n",
      "LB-GENTC00\n",
      "LB-GENTC00\n",
      "LB-GENTC00\n",
      "LB-GENTC00\n",
      "LB-GENTC00\n",
      "LB-GENTC00\n",
      "LB-GENTC00\n",
      "LB-GENTC00\n",
      "LB-GENTC00\n",
      "LB-GENTC00\n",
      "LB-GENTC00\n",
      "LB-GENTC00\n",
      "LB-GENTC00\n",
      "LB-GENTC00\n",
      "LB-GENTC00\n",
      "LB-GENTC00\n",
      "LB-GENTC00\n",
      "LB-GENTC00\n",
      "LB-GENTC00\n",
      "LB-GENTC00\n",
      "LB-GENTC00\n",
      "LB-GENTC00\n",
      "LB-GENTC00\n",
      "LB-GENTC00\n",
      "LB-GENTC00\n",
      "LB-GENTC00\n",
      "LB-GENTC00\n",
      "LB-GENTC00\n",
      "LB-GENTC00\n",
      "LB-GENTC00\n",
      "LB-GENTC00\n",
      "LB-GENTC00\n",
      "LB-GENTC00\n",
      "LB-GENTC00\n",
      "LB-GENTC00\n",
      "LB-GENTC00\n",
      "LB-GENTC00\n",
      "LB-GENTC00\n",
      "LB-GENTC00\n",
      "LB-GENTC00\n",
      "LB-GENTC00\n",
      "LB-GENTC00\n",
      "LB-GENTC00\n",
      "LB-GENTC00\n",
      "LB-GENTC00\n",
      "LB-GENTC00\n",
      "LB-GENTC00\n",
      "LB-GENTC00\n",
      "LB-GENTC00\n",
      "LB-GENTC00\n",
      "LB-GENTC00\n",
      "LB-GENTC00\n",
      "LB-GENTC00\n",
      "LB-GENTC00\n",
      "LB-GENTC00\n",
      "LB-GENTC00\n",
      "LB-GENTC00\n",
      "LB-GENTC00\n",
      "LB-GENTC00\n",
      "LB-GENTC00\n",
      "LB-DALTC00\n",
      "LB-GENTC00\n",
      "LB-GENTC00\n",
      "LB-WLDTC00\n",
      "LB-GENTC00\n",
      "LB-GENTC00\n",
      "LB-WLDTC00\n",
      "LB-GENTC00\n",
      "LB-WLDTC00\n",
      "LB-WLDTC00\n",
      "LB-GENTC00\n",
      "LB-WLDTC00\n",
      "LB-WLDTC00\n",
      "LB-WLDTC00\n",
      "LB-WLDTC00\n",
      "LB-WLDTC00\n",
      "LB-GENTC00\n",
      "LB-GENTC00\n",
      "LB-GENTC00\n",
      "LB-WLDTC00\n",
      "LB-GENTC00\n",
      "LB-WLDTC00\n",
      "LB-GENTC00\n",
      "LB-WLDTC00\n",
      "LB-GENTC00\n",
      "LB-WLDTC00\n",
      "LB-GENTC00\n",
      "LB-GENTC00\n",
      "LB-GENTC00\n",
      "LB-GENTC00\n",
      "LB-WLDTC00\n",
      "LB-WLDTC00\n",
      "LB-GENTC00\n",
      "LB-WLDTC00\n",
      "LB-GRDTC00\n",
      "LB-AGRDTC0\n",
      "LB-WLDTC00\n",
      "LB-GENTC00\n",
      "LB-WLDTC00\n",
      "LB-GENTC00\n",
      "LB-GENTC00\n",
      "LB-WLDTC00\n",
      "LB-WLDTC00\n",
      "LB-WLDTC00\n",
      "LB-WLDTC00\n",
      "LB-GENTC00\n",
      "LB-GENTC00\n",
      "LB-WLDTC00\n",
      "LB-GENTC00\n",
      "LB-WLDTC00\n",
      "LB-GENTC00\n",
      "LB-GENTC00\n",
      "LB-GENTC00\n",
      "LB-WLDTC00\n",
      "LB-GENTC00\n",
      "LB-GENTC00\n",
      "LB-GENTC00\n",
      "LB-GENTC00\n",
      "LB-GENTC00\n",
      "LB-WLDTC00\n"
     ]
    }
   ],
   "source": [
    "lst_of_machines = []\n",
    "for i,v in df.iterrows():\n",
    "    try:\n",
    "        op_id = operation_sheet[operation_sheet[\"code\"]==v['operation']][\"id\"].to_list()[0]\n",
    "    except:\n",
    "        op_id = v['operation']\n",
    "    machine_dict = {\n",
    "        \"code\":v['resource'],\n",
    "        \"operation\":op_id,\n",
    "    }\n",
    "    lst_of_machines.append(machine_dict)\n",
    "    print(v[\"resource\"])"
   ]
  },
  {
   "cell_type": "code",
   "execution_count": 44,
   "metadata": {},
   "outputs": [
    {
     "data": {
      "text/plain": [
       "{'code': 'LB-GENTC00', 'operation': 111}"
      ]
     },
     "execution_count": 44,
     "metadata": {},
     "output_type": "execute_result"
    }
   ],
   "source": [
    "lst_of_machines[2]"
   ]
  },
  {
   "cell_type": "code",
   "execution_count": 31,
   "metadata": {},
   "outputs": [],
   "source": [
    "machine_df = pd.DataFrame(lst_of_machines)"
   ]
  },
  {
   "cell_type": "code",
   "execution_count": 38,
   "metadata": {},
   "outputs": [],
   "source": [
    "machine_df.to_excel(\"data\\pre data\\laborrelation.xlsx\")"
   ]
  },
  {
   "cell_type": "code",
   "execution_count": 39,
   "metadata": {},
   "outputs": [
    {
     "data": {
      "text/html": [
       "<div>\n",
       "<style scoped>\n",
       "    .dataframe tbody tr th:only-of-type {\n",
       "        vertical-align: middle;\n",
       "    }\n",
       "\n",
       "    .dataframe tbody tr th {\n",
       "        vertical-align: top;\n",
       "    }\n",
       "\n",
       "    .dataframe thead th {\n",
       "        text-align: right;\n",
       "    }\n",
       "</style>\n",
       "<table border=\"1\" class=\"dataframe\">\n",
       "  <thead>\n",
       "    <tr style=\"text-align: right;\">\n",
       "      <th></th>\n",
       "      <th>code</th>\n",
       "      <th>operation</th>\n",
       "    </tr>\n",
       "  </thead>\n",
       "  <tbody>\n",
       "    <tr>\n",
       "      <th>0</th>\n",
       "      <td>MC-SWWO000</td>\n",
       "      <td>22</td>\n",
       "    </tr>\n",
       "    <tr>\n",
       "      <th>1</th>\n",
       "      <td>MC-SLTP000</td>\n",
       "      <td>89</td>\n",
       "    </tr>\n",
       "    <tr>\n",
       "      <th>2</th>\n",
       "      <td>MC-SWSR000</td>\n",
       "      <td>111</td>\n",
       "    </tr>\n",
       "    <tr>\n",
       "      <th>3</th>\n",
       "      <td>MC-DRSR000</td>\n",
       "      <td>31</td>\n",
       "    </tr>\n",
       "    <tr>\n",
       "      <th>4</th>\n",
       "      <td>MC-THJA000</td>\n",
       "      <td>133</td>\n",
       "    </tr>\n",
       "    <tr>\n",
       "      <th>...</th>\n",
       "      <td>...</td>\n",
       "      <td>...</td>\n",
       "    </tr>\n",
       "    <tr>\n",
       "      <th>132</th>\n",
       "      <td>MC-MWSR000</td>\n",
       "      <td>129</td>\n",
       "    </tr>\n",
       "    <tr>\n",
       "      <th>133</th>\n",
       "      <td>MC-MWSR000</td>\n",
       "      <td>147</td>\n",
       "    </tr>\n",
       "    <tr>\n",
       "      <th>134</th>\n",
       "      <td>MC-RVCB000</td>\n",
       "      <td>100</td>\n",
       "    </tr>\n",
       "    <tr>\n",
       "      <th>135</th>\n",
       "      <td>MC-AWVC000</td>\n",
       "      <td>137</td>\n",
       "    </tr>\n",
       "    <tr>\n",
       "      <th>136</th>\n",
       "      <td>MC-AWPC007</td>\n",
       "      <td>137</td>\n",
       "    </tr>\n",
       "  </tbody>\n",
       "</table>\n",
       "<p>137 rows × 2 columns</p>\n",
       "</div>"
      ],
      "text/plain": [
       "           code  operation\n",
       "0    MC-SWWO000         22\n",
       "1    MC-SLTP000         89\n",
       "2    MC-SWSR000        111\n",
       "3    MC-DRSR000         31\n",
       "4    MC-THJA000        133\n",
       "..          ...        ...\n",
       "132  MC-MWSR000        129\n",
       "133  MC-MWSR000        147\n",
       "134  MC-RVCB000        100\n",
       "135  MC-AWVC000        137\n",
       "136  MC-AWPC007        137\n",
       "\n",
       "[137 rows x 2 columns]"
      ]
     },
     "execution_count": 39,
     "metadata": {},
     "output_type": "execute_result"
    }
   ],
   "source": [
    "machine_df.head(-10)"
   ]
  },
  {
   "cell_type": "code",
   "execution_count": 1,
   "metadata": {},
   "outputs": [],
   "source": [
    "\n",
    "import xlwings as xw\n",
    "\n"
   ]
  },
  {
   "cell_type": "code",
   "execution_count": 1,
   "metadata": {},
   "outputs": [],
   "source": [
    "class Person:\n",
    "    def __init__(self,name):\n",
    "        self.name = name\n",
    "lst = []\n",
    "lst.append(Person(\"Abdalla\"))\n",
    "lst.append(Person(\"Abdalla\"))"
   ]
  },
  {
   "cell_type": "code",
   "execution_count": 2,
   "metadata": {},
   "outputs": [
    {
     "data": {
      "text/plain": [
       "[<__main__.Person at 0x1b9a09471f0>, <__main__.Person at 0x1b9a09472b0>]"
      ]
     },
     "execution_count": 2,
     "metadata": {},
     "output_type": "execute_result"
    }
   ],
   "source": [
    "lst"
   ]
  },
  {
   "cell_type": "code",
   "execution_count": 3,
   "metadata": {},
   "outputs": [],
   "source": [
    "st = set(lst)"
   ]
  },
  {
   "cell_type": "code",
   "execution_count": 4,
   "metadata": {},
   "outputs": [
    {
     "data": {
      "text/plain": [
       "{<__main__.Person at 0x1b9a09471f0>, <__main__.Person at 0x1b9a09472b0>}"
      ]
     },
     "execution_count": 4,
     "metadata": {},
     "output_type": "execute_result"
    }
   ],
   "source": [
    "st"
   ]
  },
  {
   "cell_type": "code",
   "execution_count": null,
   "metadata": {},
   "outputs": [],
   "source": []
  }
 ],
 "metadata": {
  "kernelspec": {
   "display_name": "base",
   "language": "python",
   "name": "python3"
  },
  "language_info": {
   "codemirror_mode": {
    "name": "ipython",
    "version": 3
   },
   "file_extension": ".py",
   "mimetype": "text/x-python",
   "name": "python",
   "nbconvert_exporter": "python",
   "pygments_lexer": "ipython3",
   "version": "3.8.8"
  },
  "orig_nbformat": 4,
  "vscode": {
   "interpreter": {
    "hash": "d7288e82646d3164eca24130947288f8779d11454649f2c02a5dfc42af7f324c"
   }
  }
 },
 "nbformat": 4,
 "nbformat_minor": 2
}
